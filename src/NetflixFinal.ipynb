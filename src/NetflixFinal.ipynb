{
 "cells": [
  {
   "cell_type": "code",
   "execution_count": 1,
   "metadata": {},
   "outputs": [
    {
     "data": {
      "text/html": [
       "\n",
       "        <div>\n",
       "            <p><b>SparkContext</b></p>\n",
       "\n",
       "            <p><a href=\"http://ip-172-31-85-160.ec2.internal:4040\">Spark UI</a></p>\n",
       "\n",
       "            <dl>\n",
       "              <dt>Version</dt>\n",
       "                <dd><code>v2.4.4</code></dd>\n",
       "              <dt>Master</dt>\n",
       "                <dd><code>yarn</code></dd>\n",
       "              <dt>AppName</dt>\n",
       "                <dd><code>PySparkShell</code></dd>\n",
       "            </dl>\n",
       "        </div>\n",
       "        "
      ],
      "text/plain": [
       "<SparkContext master=yarn appName=PySparkShell>"
      ]
     },
     "execution_count": 1,
     "metadata": {},
     "output_type": "execute_result"
    }
   ],
   "source": [
    "sc"
   ]
  },
  {
   "cell_type": "markdown",
   "metadata": {},
   "source": [
    "# Importing the Libraries"
   ]
  },
  {
   "cell_type": "code",
   "execution_count": 85,
   "metadata": {},
   "outputs": [],
   "source": [
    "import pyspark\n",
    "\n",
    "from pyspark import SparkConf,SparkContext\n",
    "from pyspark.sql.functions import regexp_extract\n",
    "from pyspark.sql.types import *\n",
    "from pyspark.sql import SQLContext\n",
    "from pyspark.sql.types import *\n",
    "from pyspark.sql.functions import *\n",
    "from pyspark.sql.types import IntegerType\n",
    "from pyspark.sql import Window\n",
    "from pyspark.sql import DataFrameStatFunctions as statFunc\n",
    "\n",
    "\n",
    "import pandas as pd\n",
    "import sklearn.metrics as metrics\n",
    "import numpy as np\n",
    "from sklearn.neighbors import NearestNeighbors\n",
    "from scipy.spatial.distance import correlation\n",
    "from sklearn.metrics.pairwise import pairwise_distances\n",
    "import ipywidgets as widgets\n",
    "from IPython.display import display, clear_output\n",
    "from contextlib import contextmanager\n",
    "import warnings\n",
    "warnings.filterwarnings('ignore')\n",
    "\n",
    "from pyspark.ml.evaluation import RegressionEvaluator\n",
    "from pyspark.ml.recommendation import ALS\n",
    "from pyspark.sql import Row"
   ]
  },
  {
   "cell_type": "markdown",
   "metadata": {},
   "source": [
    "## Creating a spark session"
   ]
  },
  {
   "cell_type": "code",
   "execution_count": 92,
   "metadata": {},
   "outputs": [],
   "source": [
    "from pyspark.sql import SparkSession\n",
    "spark = SparkSession.builder.appName('COLLABORATIVE FILTERING USING THE NETFLIX DATA').getOrCreate()"
   ]
  },
  {
   "cell_type": "markdown",
   "metadata": {},
   "source": [
    "## Creating the three dataframes for training, testing and movie data sets"
   ]
  },
  {
   "cell_type": "code",
   "execution_count": 4,
   "metadata": {},
   "outputs": [],
   "source": [
    "from pyspark.sql.types import *\n",
    "\n",
    "movies_df_schema = StructType(\n",
    "  [StructField('movieId', IntegerType()),\n",
    "   StructField('yearOfRelease', IntegerType()),\n",
    "   StructField('title', StringType())]\n",
    ")\n",
    "Training_df_schema = StructType(\n",
    "  [StructField('movieId', IntegerType()),\n",
    "   StructField('userId', IntegerType()),\n",
    "   StructField('ratings',DoubleType())]\n",
    ")\n",
    "\n",
    "Testing_df_schema = StructType(\n",
    "  [StructField('movieId', IntegerType()),\n",
    "   StructField('userId', IntegerType()),\n",
    "   StructField('ratings',DoubleType())]\n",
    ")"
   ]
  },
  {
   "cell_type": "code",
   "execution_count": 5,
   "metadata": {},
   "outputs": [],
   "source": [
    "#Creating the training,testing and movie dataframes\n",
    "\n",
    "df_training = sqlContext.read.format('txt').options(inferSchema=True).schema(Training_df_schema).csv('s3://netflixfinalvinay/TrainingRatings.txt')\n",
    " \n",
    "df_testing = sqlContext.read.format('txt').options(inferSchema=True).schema(Testing_df_schema).csv('s3://netflixfinalvinay/TestingRatings.txt')\n",
    " \n",
    "df_movies = sqlContext.read.format('txt').options(inferSchema=True).schema(movies_df_schema).csv('s3://netflixfinalvinay/movie_titles.txt')\n",
    " "
   ]
  },
  {
   "cell_type": "code",
   "execution_count": 6,
   "metadata": {},
   "outputs": [],
   "source": [
    "#Count of each dataframes    \n",
    "\n",
    "training_count = df_training.count()\n",
    "testing_count = df_testing.count()\n",
    "movies_count = df_movies.count()"
   ]
  },
  {
   "cell_type": "code",
   "execution_count": 7,
   "metadata": {},
   "outputs": [
    {
     "name": "stdout",
     "output_type": "stream",
     "text": [
      "There are 3255352 samples in training set , 100478 samples in testing set and 17770 samples in movies in the datasets\n",
      "Training:\n",
      "+-------+-------+-------+\n",
      "|movieId| userId|ratings|\n",
      "+-------+-------+-------+\n",
      "|      8|1744889|    1.0|\n",
      "|      8|1395430|    2.0|\n",
      "|      8|1205593|    4.0|\n",
      "|      8|1488844|    4.0|\n",
      "|      8|1447354|    1.0|\n",
      "+-------+-------+-------+\n",
      "only showing top 5 rows\n",
      "\n",
      "Testing:\n",
      "+-------+-------+-------+\n",
      "|movieId| userId|ratings|\n",
      "+-------+-------+-------+\n",
      "|      8| 573364|    1.0|\n",
      "|      8|2149668|    3.0|\n",
      "|      8|1089184|    3.0|\n",
      "|      8|2465894|    3.0|\n",
      "|      8| 534508|    1.0|\n",
      "+-------+-------+-------+\n",
      "only showing top 5 rows\n",
      "\n",
      "Movies:\n",
      "+-------+-------------+----------------------------+\n",
      "|movieId|yearOfRelease|title                       |\n",
      "+-------+-------------+----------------------------+\n",
      "|1      |2003         |Dinosaur Planet             |\n",
      "|2      |2004         |Isle of Man TT 2004 Review  |\n",
      "|3      |1997         |Character                   |\n",
      "|4      |1994         |Paula Abdul's Get Up & Dance|\n",
      "|5      |2004         |The Rise and Fall of ECW    |\n",
      "+-------+-------------+----------------------------+\n",
      "only showing top 5 rows\n",
      "\n"
     ]
    }
   ],
   "source": [
    "#Printing the data and count\n",
    "print('There are %s samples in training set , %s samples in testing set and %s samples in movies in the datasets' % (training_count,testing_count, movies_count))\n",
    "print('Training:')\n",
    "df_training.show(5)\n",
    "print('Testing:')\n",
    "df_testing.show(5)\n",
    "print('Movies:')\n",
    "df_movies.show(5,truncate=False)"
   ]
  },
  {
   "cell_type": "markdown",
   "metadata": {},
   "source": [
    "## HOW MANY DISTINCT USERS AND DISTINCT ITEMS ARE THERE IN THE TEST SET ?"
   ]
  },
  {
   "cell_type": "code",
   "execution_count": 8,
   "metadata": {},
   "outputs": [
    {
     "name": "stdout",
     "output_type": "stream",
     "text": [
      "The distinct items in testing set are : 1701\n",
      "The distinct users in testing set are : 27555\n"
     ]
    }
   ],
   "source": [
    "#finding out the distinct users and items/movies in the testing set\n",
    "\n",
    "print(\"The distinct items in testing set are :\",df_testing.select('movieID').distinct().count())\n",
    "print(\"The distinct users in testing set are :\",df_testing.select('userID').distinct().count())\n"
   ]
  },
  {
   "cell_type": "code",
   "execution_count": 9,
   "metadata": {},
   "outputs": [
    {
     "name": "stdout",
     "output_type": "stream",
     "text": [
      "The distinct items in training set are : 1821\n",
      "The distinct users in training set are : 28978\n"
     ]
    }
   ],
   "source": [
    "#finding out the distinct users and items(movies) in the training set \n",
    "\n",
    "print(\"The distinct items in training set are :\",df_training.select('movieID').distinct().count())\n",
    "print(\"The distinct users in training set are :\",df_training.select('userID').distinct().count())"
   ]
  },
  {
   "cell_type": "markdown",
   "metadata": {},
   "source": [
    "# Finding Overall Rates for Users and Movies in both the sets \n",
    "\n",
    "## Some Initial analysis on training and testing sets "
   ]
  },
  {
   "cell_type": "code",
   "execution_count": 10,
   "metadata": {},
   "outputs": [],
   "source": [
    "#lets convert to a Pandas Dataframe \n",
    "\n",
    "pd_training = df_training.toPandas()\n",
    "\n",
    "pd_testing = df_testing.toPandas()\n"
   ]
  },
  {
   "cell_type": "code",
   "execution_count": 87,
   "metadata": {},
   "outputs": [
    {
     "data": {
      "text/html": [
       "<div>\n",
       "<style scoped>\n",
       "    .dataframe tbody tr th:only-of-type {\n",
       "        vertical-align: middle;\n",
       "    }\n",
       "\n",
       "    .dataframe tbody tr th {\n",
       "        vertical-align: top;\n",
       "    }\n",
       "\n",
       "    .dataframe thead th {\n",
       "        text-align: right;\n",
       "    }\n",
       "</style>\n",
       "<table border=\"1\" class=\"dataframe\">\n",
       "  <thead>\n",
       "    <tr style=\"text-align: right;\">\n",
       "      <th></th>\n",
       "      <th>movieId</th>\n",
       "      <th>userId</th>\n",
       "      <th>ratings</th>\n",
       "    </tr>\n",
       "  </thead>\n",
       "  <tbody>\n",
       "    <tr>\n",
       "      <th>count</th>\n",
       "      <td>3.255352e+06</td>\n",
       "      <td>3.255352e+06</td>\n",
       "      <td>3.255352e+06</td>\n",
       "    </tr>\n",
       "    <tr>\n",
       "      <th>mean</th>\n",
       "      <td>8.724660e+03</td>\n",
       "      <td>1.327058e+06</td>\n",
       "      <td>3.481188e+00</td>\n",
       "    </tr>\n",
       "    <tr>\n",
       "      <th>std</th>\n",
       "      <td>5.107402e+03</td>\n",
       "      <td>7.626887e+05</td>\n",
       "      <td>1.082873e+00</td>\n",
       "    </tr>\n",
       "    <tr>\n",
       "      <th>min</th>\n",
       "      <td>8.000000e+00</td>\n",
       "      <td>7.000000e+00</td>\n",
       "      <td>1.000000e+00</td>\n",
       "    </tr>\n",
       "    <tr>\n",
       "      <th>25%</th>\n",
       "      <td>3.893000e+03</td>\n",
       "      <td>6.716970e+05</td>\n",
       "      <td>3.000000e+00</td>\n",
       "    </tr>\n",
       "    <tr>\n",
       "      <th>50%</th>\n",
       "      <td>8.825000e+03</td>\n",
       "      <td>1.322467e+06</td>\n",
       "      <td>4.000000e+00</td>\n",
       "    </tr>\n",
       "    <tr>\n",
       "      <th>75%</th>\n",
       "      <td>1.332600e+04</td>\n",
       "      <td>1.988873e+06</td>\n",
       "      <td>4.000000e+00</td>\n",
       "    </tr>\n",
       "    <tr>\n",
       "      <th>max</th>\n",
       "      <td>1.774200e+04</td>\n",
       "      <td>2.649285e+06</td>\n",
       "      <td>5.000000e+00</td>\n",
       "    </tr>\n",
       "  </tbody>\n",
       "</table>\n",
       "</div>"
      ],
      "text/plain": [
       "            movieId        userId       ratings\n",
       "count  3.255352e+06  3.255352e+06  3.255352e+06\n",
       "mean   8.724660e+03  1.327058e+06  3.481188e+00\n",
       "std    5.107402e+03  7.626887e+05  1.082873e+00\n",
       "min    8.000000e+00  7.000000e+00  1.000000e+00\n",
       "25%    3.893000e+03  6.716970e+05  3.000000e+00\n",
       "50%    8.825000e+03  1.322467e+06  4.000000e+00\n",
       "75%    1.332600e+04  1.988873e+06  4.000000e+00\n",
       "max    1.774200e+04  2.649285e+06  5.000000e+00"
      ]
     },
     "execution_count": 87,
     "metadata": {},
     "output_type": "execute_result"
    }
   ],
   "source": [
    "#descrivbing the training dataset \n",
    "\n",
    "pd_training.describe()"
   ]
  },
  {
   "cell_type": "code",
   "execution_count": 88,
   "metadata": {},
   "outputs": [
    {
     "data": {
      "text/html": [
       "<div>\n",
       "<style scoped>\n",
       "    .dataframe tbody tr th:only-of-type {\n",
       "        vertical-align: middle;\n",
       "    }\n",
       "\n",
       "    .dataframe tbody tr th {\n",
       "        vertical-align: top;\n",
       "    }\n",
       "\n",
       "    .dataframe thead th {\n",
       "        text-align: right;\n",
       "    }\n",
       "</style>\n",
       "<table border=\"1\" class=\"dataframe\">\n",
       "  <thead>\n",
       "    <tr style=\"text-align: right;\">\n",
       "      <th></th>\n",
       "      <th>movieId</th>\n",
       "      <th>userId</th>\n",
       "      <th>ratings</th>\n",
       "    </tr>\n",
       "  </thead>\n",
       "  <tbody>\n",
       "    <tr>\n",
       "      <th>count</th>\n",
       "      <td>100478.000000</td>\n",
       "      <td>1.004780e+05</td>\n",
       "      <td>100478.000000</td>\n",
       "    </tr>\n",
       "    <tr>\n",
       "      <th>mean</th>\n",
       "      <td>8701.547792</td>\n",
       "      <td>1.329956e+06</td>\n",
       "      <td>3.479458</td>\n",
       "    </tr>\n",
       "    <tr>\n",
       "      <th>std</th>\n",
       "      <td>5098.075495</td>\n",
       "      <td>7.625041e+05</td>\n",
       "      <td>1.085280</td>\n",
       "    </tr>\n",
       "    <tr>\n",
       "      <th>min</th>\n",
       "      <td>8.000000</td>\n",
       "      <td>7.000000e+00</td>\n",
       "      <td>1.000000</td>\n",
       "    </tr>\n",
       "    <tr>\n",
       "      <th>25%</th>\n",
       "      <td>3893.000000</td>\n",
       "      <td>6.774300e+05</td>\n",
       "      <td>3.000000</td>\n",
       "    </tr>\n",
       "    <tr>\n",
       "      <th>50%</th>\n",
       "      <td>8699.000000</td>\n",
       "      <td>1.325031e+06</td>\n",
       "      <td>4.000000</td>\n",
       "    </tr>\n",
       "    <tr>\n",
       "      <th>75%</th>\n",
       "      <td>13298.000000</td>\n",
       "      <td>1.995052e+06</td>\n",
       "      <td>4.000000</td>\n",
       "    </tr>\n",
       "    <tr>\n",
       "      <th>max</th>\n",
       "      <td>17742.000000</td>\n",
       "      <td>2.649285e+06</td>\n",
       "      <td>5.000000</td>\n",
       "    </tr>\n",
       "  </tbody>\n",
       "</table>\n",
       "</div>"
      ],
      "text/plain": [
       "             movieId        userId        ratings\n",
       "count  100478.000000  1.004780e+05  100478.000000\n",
       "mean     8701.547792  1.329956e+06       3.479458\n",
       "std      5098.075495  7.625041e+05       1.085280\n",
       "min         8.000000  7.000000e+00       1.000000\n",
       "25%      3893.000000  6.774300e+05       3.000000\n",
       "50%      8699.000000  1.325031e+06       4.000000\n",
       "75%     13298.000000  1.995052e+06       4.000000\n",
       "max     17742.000000  2.649285e+06       5.000000"
      ]
     },
     "execution_count": 88,
     "metadata": {},
     "output_type": "execute_result"
    }
   ],
   "source": [
    "pd_testing.describe()"
   ]
  },
  {
   "cell_type": "code",
   "execution_count": 11,
   "metadata": {},
   "outputs": [
    {
     "data": {
      "text/html": [
       "<div>\n",
       "<style scoped>\n",
       "    .dataframe tbody tr th:only-of-type {\n",
       "        vertical-align: middle;\n",
       "    }\n",
       "\n",
       "    .dataframe tbody tr th {\n",
       "        vertical-align: top;\n",
       "    }\n",
       "\n",
       "    .dataframe thead th {\n",
       "        text-align: right;\n",
       "    }\n",
       "</style>\n",
       "<table border=\"1\" class=\"dataframe\">\n",
       "  <thead>\n",
       "    <tr style=\"text-align: right;\">\n",
       "      <th></th>\n",
       "      <th>movieId</th>\n",
       "      <th>userId</th>\n",
       "      <th>ratings</th>\n",
       "    </tr>\n",
       "  </thead>\n",
       "  <tbody>\n",
       "    <tr>\n",
       "      <th>3255347</th>\n",
       "      <td>17742</td>\n",
       "      <td>46222</td>\n",
       "      <td>3.0</td>\n",
       "    </tr>\n",
       "    <tr>\n",
       "      <th>3255348</th>\n",
       "      <td>17742</td>\n",
       "      <td>2534701</td>\n",
       "      <td>1.0</td>\n",
       "    </tr>\n",
       "    <tr>\n",
       "      <th>3255349</th>\n",
       "      <td>17742</td>\n",
       "      <td>208724</td>\n",
       "      <td>3.0</td>\n",
       "    </tr>\n",
       "    <tr>\n",
       "      <th>3255350</th>\n",
       "      <td>17742</td>\n",
       "      <td>483107</td>\n",
       "      <td>2.0</td>\n",
       "    </tr>\n",
       "    <tr>\n",
       "      <th>3255351</th>\n",
       "      <td>17742</td>\n",
       "      <td>1181331</td>\n",
       "      <td>2.0</td>\n",
       "    </tr>\n",
       "  </tbody>\n",
       "</table>\n",
       "</div>"
      ],
      "text/plain": [
       "         movieId   userId  ratings\n",
       "3255347    17742    46222      3.0\n",
       "3255348    17742  2534701      1.0\n",
       "3255349    17742   208724      3.0\n",
       "3255350    17742   483107      2.0\n",
       "3255351    17742  1181331      2.0"
      ]
     },
     "execution_count": 11,
     "metadata": {},
     "output_type": "execute_result"
    }
   ],
   "source": [
    "pd_training.tail()"
   ]
  },
  {
   "cell_type": "code",
   "execution_count": 12,
   "metadata": {},
   "outputs": [
    {
     "data": {
      "text/html": [
       "<div>\n",
       "<style scoped>\n",
       "    .dataframe tbody tr th:only-of-type {\n",
       "        vertical-align: middle;\n",
       "    }\n",
       "\n",
       "    .dataframe tbody tr th {\n",
       "        vertical-align: top;\n",
       "    }\n",
       "\n",
       "    .dataframe thead th {\n",
       "        text-align: right;\n",
       "    }\n",
       "</style>\n",
       "<table border=\"1\" class=\"dataframe\">\n",
       "  <thead>\n",
       "    <tr style=\"text-align: right;\">\n",
       "      <th></th>\n",
       "      <th>movieId</th>\n",
       "      <th>userId</th>\n",
       "      <th>ratings</th>\n",
       "    </tr>\n",
       "  </thead>\n",
       "  <tbody>\n",
       "    <tr>\n",
       "      <th>100473</th>\n",
       "      <td>17742</td>\n",
       "      <td>1898310</td>\n",
       "      <td>2.0</td>\n",
       "    </tr>\n",
       "    <tr>\n",
       "      <th>100474</th>\n",
       "      <td>17742</td>\n",
       "      <td>716096</td>\n",
       "      <td>4.0</td>\n",
       "    </tr>\n",
       "    <tr>\n",
       "      <th>100475</th>\n",
       "      <td>17742</td>\n",
       "      <td>38115</td>\n",
       "      <td>3.0</td>\n",
       "    </tr>\n",
       "    <tr>\n",
       "      <th>100476</th>\n",
       "      <td>17742</td>\n",
       "      <td>2646347</td>\n",
       "      <td>5.0</td>\n",
       "    </tr>\n",
       "    <tr>\n",
       "      <th>100477</th>\n",
       "      <td>17742</td>\n",
       "      <td>273576</td>\n",
       "      <td>2.0</td>\n",
       "    </tr>\n",
       "  </tbody>\n",
       "</table>\n",
       "</div>"
      ],
      "text/plain": [
       "        movieId   userId  ratings\n",
       "100473    17742  1898310      2.0\n",
       "100474    17742   716096      4.0\n",
       "100475    17742    38115      3.0\n",
       "100476    17742  2646347      5.0\n",
       "100477    17742   273576      2.0"
      ]
     },
     "execution_count": 12,
     "metadata": {},
     "output_type": "execute_result"
    }
   ],
   "source": [
    "pd_testing.tail()"
   ]
  },
  {
   "cell_type": "markdown",
   "metadata": {},
   "source": [
    "## Testing for null values in both the sets"
   ]
  },
  {
   "cell_type": "code",
   "execution_count": 89,
   "metadata": {},
   "outputs": [
    {
     "data": {
      "text/plain": [
       "movieId    0\n",
       "userId     0\n",
       "ratings    0\n",
       "dtype: int64"
      ]
     },
     "execution_count": 89,
     "metadata": {},
     "output_type": "execute_result"
    }
   ],
   "source": [
    "pd_training.isnull().sum()"
   ]
  },
  {
   "cell_type": "code",
   "execution_count": 90,
   "metadata": {},
   "outputs": [
    {
     "data": {
      "text/plain": [
       "movieId    0\n",
       "userId     0\n",
       "ratings    0\n",
       "dtype: int64"
      ]
     },
     "execution_count": 90,
     "metadata": {},
     "output_type": "execute_result"
    }
   ],
   "source": [
    "pd_testing.isnull().sum()"
   ]
  },
  {
   "cell_type": "code",
   "execution_count": 13,
   "metadata": {},
   "outputs": [
    {
     "name": "stdout",
     "output_type": "stream",
     "text": [
      "The counts of both the dataframes are  Training dataset ==>  3255352 Testing dataset ==> 100478\n"
     ]
    }
   ],
   "source": [
    "print(\"The counts of both the dataframes are \",\"Training dataset ==> \",len(pd_training),\"Testing dataset ==>\",len(pd_testing))"
   ]
  },
  {
   "cell_type": "markdown",
   "metadata": {},
   "source": [
    "# Average Movie Ratings"
   ]
  },
  {
   "cell_type": "code",
   "execution_count": 14,
   "metadata": {},
   "outputs": [
    {
     "data": {
      "text/html": [
       "<div>\n",
       "<style scoped>\n",
       "    .dataframe tbody tr th:only-of-type {\n",
       "        vertical-align: middle;\n",
       "    }\n",
       "\n",
       "    .dataframe tbody tr th {\n",
       "        vertical-align: top;\n",
       "    }\n",
       "\n",
       "    .dataframe thead th {\n",
       "        text-align: right;\n",
       "    }\n",
       "</style>\n",
       "<table border=\"1\" class=\"dataframe\">\n",
       "  <thead>\n",
       "    <tr style=\"text-align: right;\">\n",
       "      <th></th>\n",
       "      <th>ratings</th>\n",
       "      <th>counts</th>\n",
       "    </tr>\n",
       "    <tr>\n",
       "      <th>movieId</th>\n",
       "      <th></th>\n",
       "      <th></th>\n",
       "    </tr>\n",
       "  </thead>\n",
       "  <tbody>\n",
       "    <tr>\n",
       "      <th>8</th>\n",
       "      <td>3.055104</td>\n",
       "      <td>2831</td>\n",
       "    </tr>\n",
       "    <tr>\n",
       "      <th>28</th>\n",
       "      <td>3.760127</td>\n",
       "      <td>12244</td>\n",
       "    </tr>\n",
       "    <tr>\n",
       "      <th>43</th>\n",
       "      <td>2.310345</td>\n",
       "      <td>58</td>\n",
       "    </tr>\n",
       "    <tr>\n",
       "      <th>48</th>\n",
       "      <td>3.620648</td>\n",
       "      <td>1666</td>\n",
       "    </tr>\n",
       "    <tr>\n",
       "      <th>61</th>\n",
       "      <td>2.385965</td>\n",
       "      <td>57</td>\n",
       "    </tr>\n",
       "  </tbody>\n",
       "</table>\n",
       "</div>"
      ],
      "text/plain": [
       "          ratings  counts\n",
       "movieId                  \n",
       "8        3.055104    2831\n",
       "28       3.760127   12244\n",
       "43       2.310345      58\n",
       "48       3.620648    1666\n",
       "61       2.385965      57"
      ]
     },
     "execution_count": 14,
     "metadata": {},
     "output_type": "execute_result"
    }
   ],
   "source": [
    "#checking overall average rate of the movies with their counts  in the training set\n",
    "\n",
    "averageMovieRatingsTraining = pd.DataFrame(pd_training.groupby('movieId')['ratings'].mean())\n",
    "\n",
    "averageMovieRatingsTraining['counts'] =pd.DataFrame(pd_training.groupby('movieId')['ratings'].count())\n",
    "\n",
    "averageMovieRatingsTraining.head()"
   ]
  },
  {
   "cell_type": "code",
   "execution_count": 15,
   "metadata": {},
   "outputs": [
    {
     "data": {
      "text/html": [
       "<div>\n",
       "<style scoped>\n",
       "    .dataframe tbody tr th:only-of-type {\n",
       "        vertical-align: middle;\n",
       "    }\n",
       "\n",
       "    .dataframe tbody tr th {\n",
       "        vertical-align: top;\n",
       "    }\n",
       "\n",
       "    .dataframe thead th {\n",
       "        text-align: right;\n",
       "    }\n",
       "</style>\n",
       "<table border=\"1\" class=\"dataframe\">\n",
       "  <thead>\n",
       "    <tr style=\"text-align: right;\">\n",
       "      <th></th>\n",
       "      <th>ratings</th>\n",
       "      <th>counts</th>\n",
       "    </tr>\n",
       "    <tr>\n",
       "      <th>movieId</th>\n",
       "      <th></th>\n",
       "      <th></th>\n",
       "    </tr>\n",
       "  </thead>\n",
       "  <tbody>\n",
       "    <tr>\n",
       "      <th>8</th>\n",
       "      <td>3.072917</td>\n",
       "      <td>96</td>\n",
       "    </tr>\n",
       "    <tr>\n",
       "      <th>28</th>\n",
       "      <td>3.698667</td>\n",
       "      <td>375</td>\n",
       "    </tr>\n",
       "    <tr>\n",
       "      <th>43</th>\n",
       "      <td>4.000000</td>\n",
       "      <td>1</td>\n",
       "    </tr>\n",
       "    <tr>\n",
       "      <th>48</th>\n",
       "      <td>3.622642</td>\n",
       "      <td>53</td>\n",
       "    </tr>\n",
       "    <tr>\n",
       "      <th>61</th>\n",
       "      <td>4.000000</td>\n",
       "      <td>3</td>\n",
       "    </tr>\n",
       "  </tbody>\n",
       "</table>\n",
       "</div>"
      ],
      "text/plain": [
       "          ratings  counts\n",
       "movieId                  \n",
       "8        3.072917      96\n",
       "28       3.698667     375\n",
       "43       4.000000       1\n",
       "48       3.622642      53\n",
       "61       4.000000       3"
      ]
     },
     "execution_count": 15,
     "metadata": {},
     "output_type": "execute_result"
    }
   ],
   "source": [
    "#checking overall average rate of the movies with their counts  in the testing set\n",
    "\n",
    "averageMovieRatingsTesting = pd.DataFrame(pd_testing.groupby('movieId')['ratings'].mean())\n",
    "\n",
    "averageMovieRatingsTesting['counts'] =pd.DataFrame(pd_testing.groupby('movieId')['ratings'].count())\n",
    "\n",
    "averageMovieRatingsTesting.head()"
   ]
  },
  {
   "cell_type": "code",
   "execution_count": 16,
   "metadata": {},
   "outputs": [
    {
     "data": {
      "text/html": [
       "<div>\n",
       "<style scoped>\n",
       "    .dataframe tbody tr th:only-of-type {\n",
       "        vertical-align: middle;\n",
       "    }\n",
       "\n",
       "    .dataframe tbody tr th {\n",
       "        vertical-align: top;\n",
       "    }\n",
       "\n",
       "    .dataframe thead th {\n",
       "        text-align: right;\n",
       "    }\n",
       "</style>\n",
       "<table border=\"1\" class=\"dataframe\">\n",
       "  <thead>\n",
       "    <tr style=\"text-align: right;\">\n",
       "      <th></th>\n",
       "      <th>ratings</th>\n",
       "      <th>counts</th>\n",
       "    </tr>\n",
       "    <tr>\n",
       "      <th>movieId</th>\n",
       "      <th></th>\n",
       "      <th></th>\n",
       "    </tr>\n",
       "  </thead>\n",
       "  <tbody>\n",
       "    <tr>\n",
       "      <th>6971</th>\n",
       "      <td>4.123305</td>\n",
       "      <td>811</td>\n",
       "    </tr>\n",
       "    <tr>\n",
       "      <th>4640</th>\n",
       "      <td>4.006614</td>\n",
       "      <td>756</td>\n",
       "    </tr>\n",
       "    <tr>\n",
       "      <th>6287</th>\n",
       "      <td>3.716418</td>\n",
       "      <td>737</td>\n",
       "    </tr>\n",
       "    <tr>\n",
       "      <th>9728</th>\n",
       "      <td>3.807365</td>\n",
       "      <td>706</td>\n",
       "    </tr>\n",
       "    <tr>\n",
       "      <th>8915</th>\n",
       "      <td>4.007194</td>\n",
       "      <td>695</td>\n",
       "    </tr>\n",
       "    <tr>\n",
       "      <th>4432</th>\n",
       "      <td>3.674855</td>\n",
       "      <td>692</td>\n",
       "    </tr>\n",
       "    <tr>\n",
       "      <th>8596</th>\n",
       "      <td>4.091172</td>\n",
       "      <td>691</td>\n",
       "    </tr>\n",
       "    <tr>\n",
       "      <th>6408</th>\n",
       "      <td>3.876471</td>\n",
       "      <td>680</td>\n",
       "    </tr>\n",
       "    <tr>\n",
       "      <th>1406</th>\n",
       "      <td>3.233129</td>\n",
       "      <td>652</td>\n",
       "    </tr>\n",
       "    <tr>\n",
       "      <th>1744</th>\n",
       "      <td>3.752308</td>\n",
       "      <td>650</td>\n",
       "    </tr>\n",
       "  </tbody>\n",
       "</table>\n",
       "</div>"
      ],
      "text/plain": [
       "          ratings  counts\n",
       "movieId                  \n",
       "6971     4.123305     811\n",
       "4640     4.006614     756\n",
       "6287     3.716418     737\n",
       "9728     3.807365     706\n",
       "8915     4.007194     695\n",
       "4432     3.674855     692\n",
       "8596     4.091172     691\n",
       "6408     3.876471     680\n",
       "1406     3.233129     652\n",
       "1744     3.752308     650"
      ]
     },
     "execution_count": 16,
     "metadata": {},
     "output_type": "execute_result"
    }
   ],
   "source": [
    "averageMovieRatingsTesting.sort_values(by=['counts'],ascending=False).head(10)"
   ]
  },
  {
   "cell_type": "markdown",
   "metadata": {},
   "source": [
    "# Average User Ratings"
   ]
  },
  {
   "cell_type": "code",
   "execution_count": 17,
   "metadata": {},
   "outputs": [
    {
     "data": {
      "text/html": [
       "<div>\n",
       "<style scoped>\n",
       "    .dataframe tbody tr th:only-of-type {\n",
       "        vertical-align: middle;\n",
       "    }\n",
       "\n",
       "    .dataframe tbody tr th {\n",
       "        vertical-align: top;\n",
       "    }\n",
       "\n",
       "    .dataframe thead th {\n",
       "        text-align: right;\n",
       "    }\n",
       "</style>\n",
       "<table border=\"1\" class=\"dataframe\">\n",
       "  <thead>\n",
       "    <tr style=\"text-align: right;\">\n",
       "      <th></th>\n",
       "      <th>ratings</th>\n",
       "      <th>counts</th>\n",
       "    </tr>\n",
       "    <tr>\n",
       "      <th>userId</th>\n",
       "      <th></th>\n",
       "      <th></th>\n",
       "    </tr>\n",
       "  </thead>\n",
       "  <tbody>\n",
       "    <tr>\n",
       "      <th>7</th>\n",
       "      <td>3.903846</td>\n",
       "      <td>104</td>\n",
       "    </tr>\n",
       "    <tr>\n",
       "      <th>79</th>\n",
       "      <td>3.630952</td>\n",
       "      <td>84</td>\n",
       "    </tr>\n",
       "    <tr>\n",
       "      <th>199</th>\n",
       "      <td>3.943662</td>\n",
       "      <td>71</td>\n",
       "    </tr>\n",
       "    <tr>\n",
       "      <th>481</th>\n",
       "      <td>4.351351</td>\n",
       "      <td>74</td>\n",
       "    </tr>\n",
       "    <tr>\n",
       "      <th>769</th>\n",
       "      <td>3.193878</td>\n",
       "      <td>98</td>\n",
       "    </tr>\n",
       "  </tbody>\n",
       "</table>\n",
       "</div>"
      ],
      "text/plain": [
       "         ratings  counts\n",
       "userId                  \n",
       "7       3.903846     104\n",
       "79      3.630952      84\n",
       "199     3.943662      71\n",
       "481     4.351351      74\n",
       "769     3.193878      98"
      ]
     },
     "execution_count": 17,
     "metadata": {},
     "output_type": "execute_result"
    }
   ],
   "source": [
    "#checking overall average rate of the user with their counts  in the training set\n",
    "\n",
    "averageUserRatingsTraining = pd.DataFrame(pd_training.groupby('userId')['ratings'].mean())\n",
    "\n",
    "averageUserRatingsTraining['counts'] =pd.DataFrame(pd_training.groupby('userId')['ratings'].count())\n",
    "\n",
    "averageUserRatingsTraining.head()"
   ]
  },
  {
   "cell_type": "code",
   "execution_count": 18,
   "metadata": {},
   "outputs": [
    {
     "data": {
      "text/html": [
       "<div>\n",
       "<style scoped>\n",
       "    .dataframe tbody tr th:only-of-type {\n",
       "        vertical-align: middle;\n",
       "    }\n",
       "\n",
       "    .dataframe tbody tr th {\n",
       "        vertical-align: top;\n",
       "    }\n",
       "\n",
       "    .dataframe thead th {\n",
       "        text-align: right;\n",
       "    }\n",
       "</style>\n",
       "<table border=\"1\" class=\"dataframe\">\n",
       "  <thead>\n",
       "    <tr style=\"text-align: right;\">\n",
       "      <th></th>\n",
       "      <th>ratings</th>\n",
       "      <th>counts</th>\n",
       "    </tr>\n",
       "    <tr>\n",
       "      <th>userId</th>\n",
       "      <th></th>\n",
       "      <th></th>\n",
       "    </tr>\n",
       "  </thead>\n",
       "  <tbody>\n",
       "    <tr>\n",
       "      <th>2648869</th>\n",
       "      <td>2.777778</td>\n",
       "      <td>9</td>\n",
       "    </tr>\n",
       "    <tr>\n",
       "      <th>2648885</th>\n",
       "      <td>4.000000</td>\n",
       "      <td>5</td>\n",
       "    </tr>\n",
       "    <tr>\n",
       "      <th>2649120</th>\n",
       "      <td>5.000000</td>\n",
       "      <td>2</td>\n",
       "    </tr>\n",
       "    <tr>\n",
       "      <th>2649267</th>\n",
       "      <td>4.142857</td>\n",
       "      <td>7</td>\n",
       "    </tr>\n",
       "    <tr>\n",
       "      <th>2649285</th>\n",
       "      <td>2.333333</td>\n",
       "      <td>3</td>\n",
       "    </tr>\n",
       "  </tbody>\n",
       "</table>\n",
       "</div>"
      ],
      "text/plain": [
       "          ratings  counts\n",
       "userId                   \n",
       "2648869  2.777778       9\n",
       "2648885  4.000000       5\n",
       "2649120  5.000000       2\n",
       "2649267  4.142857       7\n",
       "2649285  2.333333       3"
      ]
     },
     "execution_count": 18,
     "metadata": {},
     "output_type": "execute_result"
    }
   ],
   "source": [
    "#checking overall average rate of the user with their counts  in the testing set\n",
    "\n",
    "averageUserRatingsTesting = pd.DataFrame(pd_testing.groupby('userId')['ratings'].mean())\n",
    "\n",
    "averageUserRatingsTesting['counts'] =pd.DataFrame(pd_testing.groupby('userId')['ratings'].count())\n",
    "\n",
    "averageUserRatingsTesting.tail()"
   ]
  },
  {
   "cell_type": "code",
   "execution_count": 19,
   "metadata": {},
   "outputs": [
    {
     "data": {
      "text/html": [
       "<div>\n",
       "<style scoped>\n",
       "    .dataframe tbody tr th:only-of-type {\n",
       "        vertical-align: middle;\n",
       "    }\n",
       "\n",
       "    .dataframe tbody tr th {\n",
       "        vertical-align: top;\n",
       "    }\n",
       "\n",
       "    .dataframe thead th {\n",
       "        text-align: right;\n",
       "    }\n",
       "</style>\n",
       "<table border=\"1\" class=\"dataframe\">\n",
       "  <thead>\n",
       "    <tr style=\"text-align: right;\">\n",
       "      <th></th>\n",
       "      <th>ratings</th>\n",
       "      <th>counts</th>\n",
       "    </tr>\n",
       "    <tr>\n",
       "      <th>userId</th>\n",
       "      <th></th>\n",
       "      <th></th>\n",
       "    </tr>\n",
       "  </thead>\n",
       "  <tbody>\n",
       "    <tr>\n",
       "      <th>1664010</th>\n",
       "      <td>4.300000</td>\n",
       "      <td>70</td>\n",
       "    </tr>\n",
       "    <tr>\n",
       "      <th>2439493</th>\n",
       "      <td>1.307692</td>\n",
       "      <td>52</td>\n",
       "    </tr>\n",
       "    <tr>\n",
       "      <th>305344</th>\n",
       "      <td>1.711538</td>\n",
       "      <td>52</td>\n",
       "    </tr>\n",
       "    <tr>\n",
       "      <th>387418</th>\n",
       "      <td>1.941176</td>\n",
       "      <td>51</td>\n",
       "    </tr>\n",
       "    <tr>\n",
       "      <th>1314869</th>\n",
       "      <td>3.263158</td>\n",
       "      <td>38</td>\n",
       "    </tr>\n",
       "    <tr>\n",
       "      <th>2118461</th>\n",
       "      <td>4.117647</td>\n",
       "      <td>34</td>\n",
       "    </tr>\n",
       "    <tr>\n",
       "      <th>1932594</th>\n",
       "      <td>2.321429</td>\n",
       "      <td>28</td>\n",
       "    </tr>\n",
       "    <tr>\n",
       "      <th>491531</th>\n",
       "      <td>2.629630</td>\n",
       "      <td>27</td>\n",
       "    </tr>\n",
       "    <tr>\n",
       "      <th>2606799</th>\n",
       "      <td>2.888889</td>\n",
       "      <td>27</td>\n",
       "    </tr>\n",
       "    <tr>\n",
       "      <th>727242</th>\n",
       "      <td>1.360000</td>\n",
       "      <td>25</td>\n",
       "    </tr>\n",
       "  </tbody>\n",
       "</table>\n",
       "</div>"
      ],
      "text/plain": [
       "          ratings  counts\n",
       "userId                   \n",
       "1664010  4.300000      70\n",
       "2439493  1.307692      52\n",
       "305344   1.711538      52\n",
       "387418   1.941176      51\n",
       "1314869  3.263158      38\n",
       "2118461  4.117647      34\n",
       "1932594  2.321429      28\n",
       "491531   2.629630      27\n",
       "2606799  2.888889      27\n",
       "727242   1.360000      25"
      ]
     },
     "execution_count": 19,
     "metadata": {},
     "output_type": "execute_result"
    }
   ],
   "source": [
    "averageUserRatingsTesting.sort_values(by=['counts'],ascending=False).head(10)"
   ]
  },
  {
   "cell_type": "markdown",
   "metadata": {},
   "source": [
    "## ESTIMATED AVERAGE OVERLAP OF ITEMS FOR USERS"
   ]
  },
  {
   "cell_type": "code",
   "execution_count": 20,
   "metadata": {},
   "outputs": [
    {
     "data": {
      "text/html": [
       "<div>\n",
       "<style scoped>\n",
       "    .dataframe tbody tr th:only-of-type {\n",
       "        vertical-align: middle;\n",
       "    }\n",
       "\n",
       "    .dataframe tbody tr th {\n",
       "        vertical-align: top;\n",
       "    }\n",
       "\n",
       "    .dataframe thead th {\n",
       "        text-align: right;\n",
       "    }\n",
       "</style>\n",
       "<table border=\"1\" class=\"dataframe\">\n",
       "  <thead>\n",
       "    <tr style=\"text-align: right;\">\n",
       "      <th>movieId</th>\n",
       "      <th>8</th>\n",
       "      <th>28</th>\n",
       "      <th>43</th>\n",
       "      <th>48</th>\n",
       "      <th>61</th>\n",
       "      <th>64</th>\n",
       "      <th>66</th>\n",
       "      <th>92</th>\n",
       "      <th>96</th>\n",
       "      <th>111</th>\n",
       "      <th>...</th>\n",
       "      <th>17654</th>\n",
       "      <th>17660</th>\n",
       "      <th>17689</th>\n",
       "      <th>17693</th>\n",
       "      <th>17706</th>\n",
       "      <th>17725</th>\n",
       "      <th>17728</th>\n",
       "      <th>17734</th>\n",
       "      <th>17741</th>\n",
       "      <th>17742</th>\n",
       "    </tr>\n",
       "    <tr>\n",
       "      <th>userId</th>\n",
       "      <th></th>\n",
       "      <th></th>\n",
       "      <th></th>\n",
       "      <th></th>\n",
       "      <th></th>\n",
       "      <th></th>\n",
       "      <th></th>\n",
       "      <th></th>\n",
       "      <th></th>\n",
       "      <th></th>\n",
       "      <th></th>\n",
       "      <th></th>\n",
       "      <th></th>\n",
       "      <th></th>\n",
       "      <th></th>\n",
       "      <th></th>\n",
       "      <th></th>\n",
       "      <th></th>\n",
       "      <th></th>\n",
       "      <th></th>\n",
       "      <th></th>\n",
       "    </tr>\n",
       "  </thead>\n",
       "  <tbody>\n",
       "    <tr>\n",
       "      <th>7</th>\n",
       "      <td>5.0</td>\n",
       "      <td>4.0</td>\n",
       "      <td>NaN</td>\n",
       "      <td>NaN</td>\n",
       "      <td>NaN</td>\n",
       "      <td>NaN</td>\n",
       "      <td>NaN</td>\n",
       "      <td>NaN</td>\n",
       "      <td>NaN</td>\n",
       "      <td>NaN</td>\n",
       "      <td>...</td>\n",
       "      <td>NaN</td>\n",
       "      <td>NaN</td>\n",
       "      <td>NaN</td>\n",
       "      <td>NaN</td>\n",
       "      <td>NaN</td>\n",
       "      <td>NaN</td>\n",
       "      <td>NaN</td>\n",
       "      <td>NaN</td>\n",
       "      <td>NaN</td>\n",
       "      <td>NaN</td>\n",
       "    </tr>\n",
       "    <tr>\n",
       "      <th>79</th>\n",
       "      <td>NaN</td>\n",
       "      <td>NaN</td>\n",
       "      <td>NaN</td>\n",
       "      <td>NaN</td>\n",
       "      <td>NaN</td>\n",
       "      <td>NaN</td>\n",
       "      <td>NaN</td>\n",
       "      <td>NaN</td>\n",
       "      <td>NaN</td>\n",
       "      <td>NaN</td>\n",
       "      <td>...</td>\n",
       "      <td>NaN</td>\n",
       "      <td>NaN</td>\n",
       "      <td>NaN</td>\n",
       "      <td>NaN</td>\n",
       "      <td>NaN</td>\n",
       "      <td>NaN</td>\n",
       "      <td>NaN</td>\n",
       "      <td>NaN</td>\n",
       "      <td>NaN</td>\n",
       "      <td>NaN</td>\n",
       "    </tr>\n",
       "    <tr>\n",
       "      <th>199</th>\n",
       "      <td>NaN</td>\n",
       "      <td>NaN</td>\n",
       "      <td>NaN</td>\n",
       "      <td>NaN</td>\n",
       "      <td>NaN</td>\n",
       "      <td>NaN</td>\n",
       "      <td>NaN</td>\n",
       "      <td>NaN</td>\n",
       "      <td>NaN</td>\n",
       "      <td>4.0</td>\n",
       "      <td>...</td>\n",
       "      <td>NaN</td>\n",
       "      <td>NaN</td>\n",
       "      <td>NaN</td>\n",
       "      <td>NaN</td>\n",
       "      <td>NaN</td>\n",
       "      <td>NaN</td>\n",
       "      <td>NaN</td>\n",
       "      <td>NaN</td>\n",
       "      <td>NaN</td>\n",
       "      <td>NaN</td>\n",
       "    </tr>\n",
       "    <tr>\n",
       "      <th>481</th>\n",
       "      <td>NaN</td>\n",
       "      <td>NaN</td>\n",
       "      <td>NaN</td>\n",
       "      <td>NaN</td>\n",
       "      <td>NaN</td>\n",
       "      <td>NaN</td>\n",
       "      <td>NaN</td>\n",
       "      <td>NaN</td>\n",
       "      <td>NaN</td>\n",
       "      <td>5.0</td>\n",
       "      <td>...</td>\n",
       "      <td>NaN</td>\n",
       "      <td>NaN</td>\n",
       "      <td>NaN</td>\n",
       "      <td>NaN</td>\n",
       "      <td>NaN</td>\n",
       "      <td>NaN</td>\n",
       "      <td>NaN</td>\n",
       "      <td>NaN</td>\n",
       "      <td>NaN</td>\n",
       "      <td>NaN</td>\n",
       "    </tr>\n",
       "    <tr>\n",
       "      <th>769</th>\n",
       "      <td>NaN</td>\n",
       "      <td>NaN</td>\n",
       "      <td>NaN</td>\n",
       "      <td>NaN</td>\n",
       "      <td>NaN</td>\n",
       "      <td>NaN</td>\n",
       "      <td>NaN</td>\n",
       "      <td>NaN</td>\n",
       "      <td>NaN</td>\n",
       "      <td>NaN</td>\n",
       "      <td>...</td>\n",
       "      <td>NaN</td>\n",
       "      <td>NaN</td>\n",
       "      <td>NaN</td>\n",
       "      <td>NaN</td>\n",
       "      <td>NaN</td>\n",
       "      <td>NaN</td>\n",
       "      <td>NaN</td>\n",
       "      <td>NaN</td>\n",
       "      <td>NaN</td>\n",
       "      <td>NaN</td>\n",
       "    </tr>\n",
       "  </tbody>\n",
       "</table>\n",
       "<p>5 rows × 1821 columns</p>\n",
       "</div>"
      ],
      "text/plain": [
       "movieId  8      28     43     48     61     64     66     92     96     111    \\\n",
       "userId                                                                          \n",
       "7          5.0    4.0    NaN    NaN    NaN    NaN    NaN    NaN    NaN    NaN   \n",
       "79         NaN    NaN    NaN    NaN    NaN    NaN    NaN    NaN    NaN    NaN   \n",
       "199        NaN    NaN    NaN    NaN    NaN    NaN    NaN    NaN    NaN    4.0   \n",
       "481        NaN    NaN    NaN    NaN    NaN    NaN    NaN    NaN    NaN    5.0   \n",
       "769        NaN    NaN    NaN    NaN    NaN    NaN    NaN    NaN    NaN    NaN   \n",
       "\n",
       "movieId  ...  17654  17660  17689  17693  17706  17725  17728  17734  17741  \\\n",
       "userId   ...                                                                  \n",
       "7        ...    NaN    NaN    NaN    NaN    NaN    NaN    NaN    NaN    NaN   \n",
       "79       ...    NaN    NaN    NaN    NaN    NaN    NaN    NaN    NaN    NaN   \n",
       "199      ...    NaN    NaN    NaN    NaN    NaN    NaN    NaN    NaN    NaN   \n",
       "481      ...    NaN    NaN    NaN    NaN    NaN    NaN    NaN    NaN    NaN   \n",
       "769      ...    NaN    NaN    NaN    NaN    NaN    NaN    NaN    NaN    NaN   \n",
       "\n",
       "movieId  17742  \n",
       "userId          \n",
       "7          NaN  \n",
       "79         NaN  \n",
       "199        NaN  \n",
       "481        NaN  \n",
       "769        NaN  \n",
       "\n",
       "[5 rows x 1821 columns]"
      ]
     },
     "execution_count": 20,
     "metadata": {},
     "output_type": "execute_result"
    }
   ],
   "source": [
    "#Pivoting the table with userID as index and the movieId as columns for our training data\n",
    "\n",
    "userItemRating = pd_training.pivot_table(index='userId', columns='movieId', values='ratings')\n",
    "\n",
    "userItemRating.head()"
   ]
  },
  {
   "cell_type": "code",
   "execution_count": 21,
   "metadata": {},
   "outputs": [
    {
     "data": {
      "text/html": [
       "<div>\n",
       "<style scoped>\n",
       "    .dataframe tbody tr th:only-of-type {\n",
       "        vertical-align: middle;\n",
       "    }\n",
       "\n",
       "    .dataframe tbody tr th {\n",
       "        vertical-align: top;\n",
       "    }\n",
       "\n",
       "    .dataframe thead th {\n",
       "        text-align: right;\n",
       "    }\n",
       "</style>\n",
       "<table border=\"1\" class=\"dataframe\">\n",
       "  <thead>\n",
       "    <tr style=\"text-align: right;\">\n",
       "      <th></th>\n",
       "      <th>movieId</th>\n",
       "      <th>userId</th>\n",
       "      <th>ratings</th>\n",
       "    </tr>\n",
       "  </thead>\n",
       "  <tbody>\n",
       "    <tr>\n",
       "      <th>0</th>\n",
       "      <td>8</td>\n",
       "      <td>573364</td>\n",
       "      <td>1.0</td>\n",
       "    </tr>\n",
       "    <tr>\n",
       "      <th>1</th>\n",
       "      <td>8</td>\n",
       "      <td>2149668</td>\n",
       "      <td>3.0</td>\n",
       "    </tr>\n",
       "    <tr>\n",
       "      <th>2</th>\n",
       "      <td>8</td>\n",
       "      <td>1089184</td>\n",
       "      <td>3.0</td>\n",
       "    </tr>\n",
       "    <tr>\n",
       "      <th>3</th>\n",
       "      <td>8</td>\n",
       "      <td>2465894</td>\n",
       "      <td>3.0</td>\n",
       "    </tr>\n",
       "    <tr>\n",
       "      <th>4</th>\n",
       "      <td>8</td>\n",
       "      <td>534508</td>\n",
       "      <td>1.0</td>\n",
       "    </tr>\n",
       "  </tbody>\n",
       "</table>\n",
       "</div>"
      ],
      "text/plain": [
       "   movieId   userId  ratings\n",
       "0        8   573364      1.0\n",
       "1        8  2149668      3.0\n",
       "2        8  1089184      3.0\n",
       "3        8  2465894      3.0\n",
       "4        8   534508      1.0"
      ]
     },
     "execution_count": 21,
     "metadata": {},
     "output_type": "execute_result"
    }
   ],
   "source": [
    "pd_testing.head()"
   ]
  },
  {
   "cell_type": "code",
   "execution_count": 22,
   "metadata": {},
   "outputs": [
    {
     "data": {
      "text/html": [
       "<div>\n",
       "<style scoped>\n",
       "    .dataframe tbody tr th:only-of-type {\n",
       "        vertical-align: middle;\n",
       "    }\n",
       "\n",
       "    .dataframe tbody tr th {\n",
       "        vertical-align: top;\n",
       "    }\n",
       "\n",
       "    .dataframe thead th {\n",
       "        text-align: right;\n",
       "    }\n",
       "</style>\n",
       "<table border=\"1\" class=\"dataframe\">\n",
       "  <thead>\n",
       "    <tr style=\"text-align: right;\">\n",
       "      <th>movieId</th>\n",
       "      <th>8</th>\n",
       "      <th>28</th>\n",
       "      <th>43</th>\n",
       "      <th>48</th>\n",
       "      <th>61</th>\n",
       "      <th>64</th>\n",
       "      <th>66</th>\n",
       "      <th>92</th>\n",
       "      <th>96</th>\n",
       "      <th>111</th>\n",
       "      <th>...</th>\n",
       "      <th>17654</th>\n",
       "      <th>17660</th>\n",
       "      <th>17689</th>\n",
       "      <th>17693</th>\n",
       "      <th>17706</th>\n",
       "      <th>17725</th>\n",
       "      <th>17728</th>\n",
       "      <th>17734</th>\n",
       "      <th>17741</th>\n",
       "      <th>17742</th>\n",
       "    </tr>\n",
       "    <tr>\n",
       "      <th>userId</th>\n",
       "      <th></th>\n",
       "      <th></th>\n",
       "      <th></th>\n",
       "      <th></th>\n",
       "      <th></th>\n",
       "      <th></th>\n",
       "      <th></th>\n",
       "      <th></th>\n",
       "      <th></th>\n",
       "      <th></th>\n",
       "      <th></th>\n",
       "      <th></th>\n",
       "      <th></th>\n",
       "      <th></th>\n",
       "      <th></th>\n",
       "      <th></th>\n",
       "      <th></th>\n",
       "      <th></th>\n",
       "      <th></th>\n",
       "      <th></th>\n",
       "      <th></th>\n",
       "    </tr>\n",
       "  </thead>\n",
       "  <tbody>\n",
       "    <tr>\n",
       "      <th>7</th>\n",
       "      <td>5</td>\n",
       "      <td>4</td>\n",
       "      <td>0</td>\n",
       "      <td>0</td>\n",
       "      <td>0</td>\n",
       "      <td>0</td>\n",
       "      <td>0</td>\n",
       "      <td>0</td>\n",
       "      <td>0</td>\n",
       "      <td>0</td>\n",
       "      <td>...</td>\n",
       "      <td>0</td>\n",
       "      <td>0</td>\n",
       "      <td>0</td>\n",
       "      <td>0</td>\n",
       "      <td>0</td>\n",
       "      <td>0</td>\n",
       "      <td>0</td>\n",
       "      <td>0</td>\n",
       "      <td>0</td>\n",
       "      <td>0</td>\n",
       "    </tr>\n",
       "    <tr>\n",
       "      <th>79</th>\n",
       "      <td>0</td>\n",
       "      <td>0</td>\n",
       "      <td>0</td>\n",
       "      <td>0</td>\n",
       "      <td>0</td>\n",
       "      <td>0</td>\n",
       "      <td>0</td>\n",
       "      <td>0</td>\n",
       "      <td>0</td>\n",
       "      <td>0</td>\n",
       "      <td>...</td>\n",
       "      <td>0</td>\n",
       "      <td>0</td>\n",
       "      <td>0</td>\n",
       "      <td>0</td>\n",
       "      <td>0</td>\n",
       "      <td>0</td>\n",
       "      <td>0</td>\n",
       "      <td>0</td>\n",
       "      <td>0</td>\n",
       "      <td>0</td>\n",
       "    </tr>\n",
       "    <tr>\n",
       "      <th>199</th>\n",
       "      <td>0</td>\n",
       "      <td>0</td>\n",
       "      <td>0</td>\n",
       "      <td>0</td>\n",
       "      <td>0</td>\n",
       "      <td>0</td>\n",
       "      <td>0</td>\n",
       "      <td>0</td>\n",
       "      <td>0</td>\n",
       "      <td>4</td>\n",
       "      <td>...</td>\n",
       "      <td>0</td>\n",
       "      <td>0</td>\n",
       "      <td>0</td>\n",
       "      <td>0</td>\n",
       "      <td>0</td>\n",
       "      <td>0</td>\n",
       "      <td>0</td>\n",
       "      <td>0</td>\n",
       "      <td>0</td>\n",
       "      <td>0</td>\n",
       "    </tr>\n",
       "    <tr>\n",
       "      <th>481</th>\n",
       "      <td>0</td>\n",
       "      <td>0</td>\n",
       "      <td>0</td>\n",
       "      <td>0</td>\n",
       "      <td>0</td>\n",
       "      <td>0</td>\n",
       "      <td>0</td>\n",
       "      <td>0</td>\n",
       "      <td>0</td>\n",
       "      <td>5</td>\n",
       "      <td>...</td>\n",
       "      <td>0</td>\n",
       "      <td>0</td>\n",
       "      <td>0</td>\n",
       "      <td>0</td>\n",
       "      <td>0</td>\n",
       "      <td>0</td>\n",
       "      <td>0</td>\n",
       "      <td>0</td>\n",
       "      <td>0</td>\n",
       "      <td>0</td>\n",
       "    </tr>\n",
       "    <tr>\n",
       "      <th>769</th>\n",
       "      <td>0</td>\n",
       "      <td>0</td>\n",
       "      <td>0</td>\n",
       "      <td>0</td>\n",
       "      <td>0</td>\n",
       "      <td>0</td>\n",
       "      <td>0</td>\n",
       "      <td>0</td>\n",
       "      <td>0</td>\n",
       "      <td>0</td>\n",
       "      <td>...</td>\n",
       "      <td>0</td>\n",
       "      <td>0</td>\n",
       "      <td>0</td>\n",
       "      <td>0</td>\n",
       "      <td>0</td>\n",
       "      <td>0</td>\n",
       "      <td>0</td>\n",
       "      <td>0</td>\n",
       "      <td>0</td>\n",
       "      <td>0</td>\n",
       "    </tr>\n",
       "  </tbody>\n",
       "</table>\n",
       "<p>5 rows × 1821 columns</p>\n",
       "</div>"
      ],
      "text/plain": [
       "movieId  8      28     43     48     61     64     66     92     96     111    \\\n",
       "userId                                                                          \n",
       "7            5      4      0      0      0      0      0      0      0      0   \n",
       "79           0      0      0      0      0      0      0      0      0      0   \n",
       "199          0      0      0      0      0      0      0      0      0      4   \n",
       "481          0      0      0      0      0      0      0      0      0      5   \n",
       "769          0      0      0      0      0      0      0      0      0      0   \n",
       "\n",
       "movieId  ...  17654  17660  17689  17693  17706  17725  17728  17734  17741  \\\n",
       "userId   ...                                                                  \n",
       "7        ...      0      0      0      0      0      0      0      0      0   \n",
       "79       ...      0      0      0      0      0      0      0      0      0   \n",
       "199      ...      0      0      0      0      0      0      0      0      0   \n",
       "481      ...      0      0      0      0      0      0      0      0      0   \n",
       "769      ...      0      0      0      0      0      0      0      0      0   \n",
       "\n",
       "movieId  17742  \n",
       "userId          \n",
       "7            0  \n",
       "79           0  \n",
       "199          0  \n",
       "481          0  \n",
       "769          0  \n",
       "\n",
       "[5 rows x 1821 columns]"
      ]
     },
     "execution_count": 22,
     "metadata": {},
     "output_type": "execute_result"
    }
   ],
   "source": [
    "userItemRating.fillna(0, inplace = True)\n",
    "\n",
    "userMovieRating = userItemRating.astype(np.int32)\n",
    "\n",
    "userMovieRating.head()"
   ]
  },
  {
   "cell_type": "markdown",
   "metadata": {},
   "source": [
    "\n",
    "## I am using the top 10 users and movies which are having the most counts from the test dataset.\n"
   ]
  },
  {
   "cell_type": "code",
   "execution_count": null,
   "metadata": {},
   "outputs": [],
   "source": [
    "userMovieRating[17742].head(50)"
   ]
  },
  {
   "cell_type": "code",
   "execution_count": 23,
   "metadata": {},
   "outputs": [],
   "source": [
    "def average(user):\n",
    "    summed =0\n",
    "    count =0\n",
    "\n",
    "    for i in range(len(user)):\n",
    "        if(user[i]==0):\n",
    "            summed = summed +0\n",
    "        else:\n",
    "            summed= user[i] +summed\n",
    "            count= 1+ count\n",
    "    avgg=summed/count\n",
    "    return avgg"
   ]
  },
  {
   "cell_type": "code",
   "execution_count": 24,
   "metadata": {},
   "outputs": [
    {
     "data": {
      "text/html": [
       "<div>\n",
       "<style scoped>\n",
       "    .dataframe tbody tr th:only-of-type {\n",
       "        vertical-align: middle;\n",
       "    }\n",
       "\n",
       "    .dataframe tbody tr th {\n",
       "        vertical-align: top;\n",
       "    }\n",
       "\n",
       "    .dataframe thead th {\n",
       "        text-align: right;\n",
       "    }\n",
       "</style>\n",
       "<table border=\"1\" class=\"dataframe\">\n",
       "  <thead>\n",
       "    <tr style=\"text-align: right;\">\n",
       "      <th></th>\n",
       "      <th>movieId</th>\n",
       "      <th>userId</th>\n",
       "      <th>ratings</th>\n",
       "    </tr>\n",
       "  </thead>\n",
       "  <tbody>\n",
       "    <tr>\n",
       "      <th>100473</th>\n",
       "      <td>17742</td>\n",
       "      <td>1898310</td>\n",
       "      <td>2.0</td>\n",
       "    </tr>\n",
       "    <tr>\n",
       "      <th>100474</th>\n",
       "      <td>17742</td>\n",
       "      <td>716096</td>\n",
       "      <td>4.0</td>\n",
       "    </tr>\n",
       "    <tr>\n",
       "      <th>100475</th>\n",
       "      <td>17742</td>\n",
       "      <td>38115</td>\n",
       "      <td>3.0</td>\n",
       "    </tr>\n",
       "    <tr>\n",
       "      <th>100476</th>\n",
       "      <td>17742</td>\n",
       "      <td>2646347</td>\n",
       "      <td>5.0</td>\n",
       "    </tr>\n",
       "    <tr>\n",
       "      <th>100477</th>\n",
       "      <td>17742</td>\n",
       "      <td>273576</td>\n",
       "      <td>2.0</td>\n",
       "    </tr>\n",
       "  </tbody>\n",
       "</table>\n",
       "</div>"
      ],
      "text/plain": [
       "        movieId   userId  ratings\n",
       "100473    17742  1898310      2.0\n",
       "100474    17742   716096      4.0\n",
       "100475    17742    38115      3.0\n",
       "100476    17742  2646347      5.0\n",
       "100477    17742   273576      2.0"
      ]
     },
     "execution_count": 24,
     "metadata": {},
     "output_type": "execute_result"
    }
   ],
   "source": [
    "pd_testing.tail()"
   ]
  },
  {
   "cell_type": "code",
   "execution_count": 25,
   "metadata": {},
   "outputs": [
    {
     "name": "stdout",
     "output_type": "stream",
     "text": [
      "4.2384364820846905\n"
     ]
    }
   ],
   "source": [
    "user1664010= list(userMovieRating.loc[1664010])\n",
    "avg1664010= average(user1664010)\n",
    "print(avg1664010)"
   ]
  },
  {
   "cell_type": "code",
   "execution_count": 26,
   "metadata": {},
   "outputs": [
    {
     "name": "stdout",
     "output_type": "stream",
     "text": [
      "1.225609756097561\n"
     ]
    }
   ],
   "source": [
    "user2439493 = list(userMovieRating.loc[2439493])\n",
    "\n",
    "avg2439493= average(user2439493)\n",
    "\n",
    "print(avg2439493)"
   ]
  },
  {
   "cell_type": "code",
   "execution_count": 27,
   "metadata": {},
   "outputs": [
    {
     "name": "stdout",
     "output_type": "stream",
     "text": [
      "1.904382470119522\n"
     ]
    }
   ],
   "source": [
    "user305344 = list(userMovieRating.loc[305344])\n",
    "\n",
    "avg305344 = average(user305344)\n",
    "\n",
    "print(avg305344)"
   ]
  },
  {
   "cell_type": "code",
   "execution_count": 28,
   "metadata": {},
   "outputs": [
    {
     "name": "stdout",
     "output_type": "stream",
     "text": [
      "1.8405963302752293\n"
     ]
    }
   ],
   "source": [
    "user387418 = list(userMovieRating.loc[387418])\n",
    "\n",
    "avg387418= average(user387418)\n",
    "\n",
    "print(avg387418)"
   ]
  },
  {
   "cell_type": "code",
   "execution_count": 29,
   "metadata": {},
   "outputs": [
    {
     "name": "stdout",
     "output_type": "stream",
     "text": [
      "2.970984455958549\n"
     ]
    }
   ],
   "source": [
    "user1314869 = list(userMovieRating.loc[1314869])\n",
    "\n",
    "avg1314869= average(user1314869)\n",
    "\n",
    "print(avg1314869)"
   ]
  },
  {
   "cell_type": "code",
   "execution_count": 30,
   "metadata": {},
   "outputs": [
    {
     "name": "stdout",
     "output_type": "stream",
     "text": [
      "4.088453747467927\n"
     ]
    }
   ],
   "source": [
    "user2118461 = list(userMovieRating.loc[2118461])\n",
    "\n",
    "avg2118461= average(user2118461)\n",
    "\n",
    "print(avg2118461)"
   ]
  },
  {
   "cell_type": "code",
   "execution_count": 31,
   "metadata": {},
   "outputs": [
    {
     "name": "stdout",
     "output_type": "stream",
     "text": [
      "2.3195754716981134\n"
     ]
    }
   ],
   "source": [
    "user1932594 = list(userMovieRating.loc[1932594])\n",
    "\n",
    "avg1932594 = average(user1932594)\n",
    "\n",
    "print(avg1932594)"
   ]
  },
  {
   "cell_type": "code",
   "execution_count": 32,
   "metadata": {},
   "outputs": [
    {
     "name": "stdout",
     "output_type": "stream",
     "text": [
      "2.9102384291725105\n"
     ]
    }
   ],
   "source": [
    "user491531 = list(userMovieRating.loc[491531])\n",
    "\n",
    "avg491531= average(user491531)\n",
    "\n",
    "print(avg491531)"
   ]
  },
  {
   "cell_type": "code",
   "execution_count": null,
   "metadata": {},
   "outputs": [],
   "source": [
    "user2606799 = list(userMovieRating.loc[2606799])\n",
    "\n",
    "avg2606799 = average(user2606799)\n",
    "\n",
    "print(avg2606799)"
   ]
  },
  {
   "cell_type": "code",
   "execution_count": 34,
   "metadata": {},
   "outputs": [
    {
     "name": "stdout",
     "output_type": "stream",
     "text": [
      "1.1890694239290989\n"
     ]
    }
   ],
   "source": [
    "user727242 = list(userMovieRating.loc[727242])\n",
    "\n",
    "avg727242 = average(user727242)\n",
    "\n",
    "print(avg727242)"
   ]
  },
  {
   "cell_type": "code",
   "execution_count": 35,
   "metadata": {},
   "outputs": [
    {
     "name": "stdout",
     "output_type": "stream",
     "text": [
      "ESTIMATED AVERAGE OVERLAP OF ITEMS FOR USERS is :  2.550532902294355\n"
     ]
    }
   ],
   "source": [
    "ESTIMATED_AVERAGE_ITEMS_USERS = avg1314869+avg387418+avg305344+avg2439493+avg1664010+avg727242+avg2606799+avg491531+avg1932594+avg2118461\n",
    "\n",
    "print(\"ESTIMATED AVERAGE OVERLAP OF ITEMS FOR USERS is : \",ESTIMATED_AVERAGE_ITEMS_USERS/10)"
   ]
  },
  {
   "cell_type": "markdown",
   "metadata": {},
   "source": [
    "### ESTIMATED AVERAGE OVERLAP OF ITEMS FOR USERS is :  2.550532902294355"
   ]
  },
  {
   "cell_type": "code",
   "execution_count": null,
   "metadata": {},
   "outputs": [],
   "source": []
  },
  {
   "cell_type": "code",
   "execution_count": null,
   "metadata": {},
   "outputs": [],
   "source": []
  },
  {
   "cell_type": "markdown",
   "metadata": {},
   "source": [
    "## ESTIMATED AVERAGE OVERLAP OF USERS FOR ITEMS# "
   ]
  },
  {
   "cell_type": "code",
   "execution_count": 36,
   "metadata": {},
   "outputs": [
    {
     "data": {
      "text/html": [
       "<div>\n",
       "<style scoped>\n",
       "    .dataframe tbody tr th:only-of-type {\n",
       "        vertical-align: middle;\n",
       "    }\n",
       "\n",
       "    .dataframe tbody tr th {\n",
       "        vertical-align: top;\n",
       "    }\n",
       "\n",
       "    .dataframe thead th {\n",
       "        text-align: right;\n",
       "    }\n",
       "</style>\n",
       "<table border=\"1\" class=\"dataframe\">\n",
       "  <thead>\n",
       "    <tr style=\"text-align: right;\">\n",
       "      <th>userId</th>\n",
       "      <th>7</th>\n",
       "      <th>79</th>\n",
       "      <th>199</th>\n",
       "      <th>481</th>\n",
       "      <th>769</th>\n",
       "      <th>906</th>\n",
       "      <th>1310</th>\n",
       "      <th>1333</th>\n",
       "      <th>1427</th>\n",
       "      <th>1442</th>\n",
       "      <th>...</th>\n",
       "      <th>2648572</th>\n",
       "      <th>2648589</th>\n",
       "      <th>2648730</th>\n",
       "      <th>2648734</th>\n",
       "      <th>2648853</th>\n",
       "      <th>2648869</th>\n",
       "      <th>2648885</th>\n",
       "      <th>2649120</th>\n",
       "      <th>2649267</th>\n",
       "      <th>2649285</th>\n",
       "    </tr>\n",
       "    <tr>\n",
       "      <th>movieId</th>\n",
       "      <th></th>\n",
       "      <th></th>\n",
       "      <th></th>\n",
       "      <th></th>\n",
       "      <th></th>\n",
       "      <th></th>\n",
       "      <th></th>\n",
       "      <th></th>\n",
       "      <th></th>\n",
       "      <th></th>\n",
       "      <th></th>\n",
       "      <th></th>\n",
       "      <th></th>\n",
       "      <th></th>\n",
       "      <th></th>\n",
       "      <th></th>\n",
       "      <th></th>\n",
       "      <th></th>\n",
       "      <th></th>\n",
       "      <th></th>\n",
       "      <th></th>\n",
       "    </tr>\n",
       "  </thead>\n",
       "  <tbody>\n",
       "    <tr>\n",
       "      <th>8</th>\n",
       "      <td>5.0</td>\n",
       "      <td>NaN</td>\n",
       "      <td>NaN</td>\n",
       "      <td>NaN</td>\n",
       "      <td>NaN</td>\n",
       "      <td>NaN</td>\n",
       "      <td>NaN</td>\n",
       "      <td>3.0</td>\n",
       "      <td>NaN</td>\n",
       "      <td>NaN</td>\n",
       "      <td>...</td>\n",
       "      <td>NaN</td>\n",
       "      <td>NaN</td>\n",
       "      <td>NaN</td>\n",
       "      <td>NaN</td>\n",
       "      <td>NaN</td>\n",
       "      <td>NaN</td>\n",
       "      <td>NaN</td>\n",
       "      <td>NaN</td>\n",
       "      <td>NaN</td>\n",
       "      <td>NaN</td>\n",
       "    </tr>\n",
       "    <tr>\n",
       "      <th>28</th>\n",
       "      <td>4.0</td>\n",
       "      <td>NaN</td>\n",
       "      <td>NaN</td>\n",
       "      <td>NaN</td>\n",
       "      <td>NaN</td>\n",
       "      <td>3.0</td>\n",
       "      <td>3.0</td>\n",
       "      <td>2.0</td>\n",
       "      <td>NaN</td>\n",
       "      <td>4.0</td>\n",
       "      <td>...</td>\n",
       "      <td>NaN</td>\n",
       "      <td>3.0</td>\n",
       "      <td>4.0</td>\n",
       "      <td>NaN</td>\n",
       "      <td>2.0</td>\n",
       "      <td>NaN</td>\n",
       "      <td>4.0</td>\n",
       "      <td>NaN</td>\n",
       "      <td>NaN</td>\n",
       "      <td>4.0</td>\n",
       "    </tr>\n",
       "    <tr>\n",
       "      <th>43</th>\n",
       "      <td>NaN</td>\n",
       "      <td>NaN</td>\n",
       "      <td>NaN</td>\n",
       "      <td>NaN</td>\n",
       "      <td>NaN</td>\n",
       "      <td>NaN</td>\n",
       "      <td>NaN</td>\n",
       "      <td>NaN</td>\n",
       "      <td>NaN</td>\n",
       "      <td>NaN</td>\n",
       "      <td>...</td>\n",
       "      <td>NaN</td>\n",
       "      <td>NaN</td>\n",
       "      <td>NaN</td>\n",
       "      <td>NaN</td>\n",
       "      <td>NaN</td>\n",
       "      <td>NaN</td>\n",
       "      <td>NaN</td>\n",
       "      <td>NaN</td>\n",
       "      <td>NaN</td>\n",
       "      <td>NaN</td>\n",
       "    </tr>\n",
       "    <tr>\n",
       "      <th>48</th>\n",
       "      <td>NaN</td>\n",
       "      <td>NaN</td>\n",
       "      <td>NaN</td>\n",
       "      <td>NaN</td>\n",
       "      <td>NaN</td>\n",
       "      <td>NaN</td>\n",
       "      <td>NaN</td>\n",
       "      <td>NaN</td>\n",
       "      <td>NaN</td>\n",
       "      <td>NaN</td>\n",
       "      <td>...</td>\n",
       "      <td>NaN</td>\n",
       "      <td>NaN</td>\n",
       "      <td>NaN</td>\n",
       "      <td>NaN</td>\n",
       "      <td>NaN</td>\n",
       "      <td>NaN</td>\n",
       "      <td>NaN</td>\n",
       "      <td>NaN</td>\n",
       "      <td>NaN</td>\n",
       "      <td>NaN</td>\n",
       "    </tr>\n",
       "    <tr>\n",
       "      <th>61</th>\n",
       "      <td>NaN</td>\n",
       "      <td>NaN</td>\n",
       "      <td>NaN</td>\n",
       "      <td>NaN</td>\n",
       "      <td>NaN</td>\n",
       "      <td>NaN</td>\n",
       "      <td>NaN</td>\n",
       "      <td>NaN</td>\n",
       "      <td>NaN</td>\n",
       "      <td>NaN</td>\n",
       "      <td>...</td>\n",
       "      <td>NaN</td>\n",
       "      <td>NaN</td>\n",
       "      <td>NaN</td>\n",
       "      <td>NaN</td>\n",
       "      <td>NaN</td>\n",
       "      <td>NaN</td>\n",
       "      <td>NaN</td>\n",
       "      <td>NaN</td>\n",
       "      <td>NaN</td>\n",
       "      <td>NaN</td>\n",
       "    </tr>\n",
       "  </tbody>\n",
       "</table>\n",
       "<p>5 rows × 28978 columns</p>\n",
       "</div>"
      ],
      "text/plain": [
       "userId   7        79       199      481      769      906      1310     \\\n",
       "movieId                                                                  \n",
       "8            5.0      NaN      NaN      NaN      NaN      NaN      NaN   \n",
       "28           4.0      NaN      NaN      NaN      NaN      3.0      3.0   \n",
       "43           NaN      NaN      NaN      NaN      NaN      NaN      NaN   \n",
       "48           NaN      NaN      NaN      NaN      NaN      NaN      NaN   \n",
       "61           NaN      NaN      NaN      NaN      NaN      NaN      NaN   \n",
       "\n",
       "userId   1333     1427     1442     ...  2648572  2648589  2648730  2648734  \\\n",
       "movieId                             ...                                       \n",
       "8            3.0      NaN      NaN  ...      NaN      NaN      NaN      NaN   \n",
       "28           2.0      NaN      4.0  ...      NaN      3.0      4.0      NaN   \n",
       "43           NaN      NaN      NaN  ...      NaN      NaN      NaN      NaN   \n",
       "48           NaN      NaN      NaN  ...      NaN      NaN      NaN      NaN   \n",
       "61           NaN      NaN      NaN  ...      NaN      NaN      NaN      NaN   \n",
       "\n",
       "userId   2648853  2648869  2648885  2649120  2649267  2649285  \n",
       "movieId                                                        \n",
       "8            NaN      NaN      NaN      NaN      NaN      NaN  \n",
       "28           2.0      NaN      4.0      NaN      NaN      4.0  \n",
       "43           NaN      NaN      NaN      NaN      NaN      NaN  \n",
       "48           NaN      NaN      NaN      NaN      NaN      NaN  \n",
       "61           NaN      NaN      NaN      NaN      NaN      NaN  \n",
       "\n",
       "[5 rows x 28978 columns]"
      ]
     },
     "execution_count": 36,
     "metadata": {},
     "output_type": "execute_result"
    }
   ],
   "source": [
    "#creating a utility matrix with movieId as index and the userId as columns to training data\n",
    "\n",
    "movieUserRating = pd_training.pivot_table(index='movieId', columns='userId', values='ratings')\n",
    "\n",
    "movieUserRating.head()"
   ]
  },
  {
   "cell_type": "code",
   "execution_count": 37,
   "metadata": {},
   "outputs": [
    {
     "data": {
      "text/html": [
       "<div>\n",
       "<style scoped>\n",
       "    .dataframe tbody tr th:only-of-type {\n",
       "        vertical-align: middle;\n",
       "    }\n",
       "\n",
       "    .dataframe tbody tr th {\n",
       "        vertical-align: top;\n",
       "    }\n",
       "\n",
       "    .dataframe thead th {\n",
       "        text-align: right;\n",
       "    }\n",
       "</style>\n",
       "<table border=\"1\" class=\"dataframe\">\n",
       "  <thead>\n",
       "    <tr style=\"text-align: right;\">\n",
       "      <th>userId</th>\n",
       "      <th>7</th>\n",
       "      <th>79</th>\n",
       "      <th>199</th>\n",
       "      <th>481</th>\n",
       "      <th>769</th>\n",
       "      <th>906</th>\n",
       "      <th>1310</th>\n",
       "      <th>1333</th>\n",
       "      <th>1427</th>\n",
       "      <th>1442</th>\n",
       "      <th>...</th>\n",
       "      <th>2648572</th>\n",
       "      <th>2648589</th>\n",
       "      <th>2648730</th>\n",
       "      <th>2648734</th>\n",
       "      <th>2648853</th>\n",
       "      <th>2648869</th>\n",
       "      <th>2648885</th>\n",
       "      <th>2649120</th>\n",
       "      <th>2649267</th>\n",
       "      <th>2649285</th>\n",
       "    </tr>\n",
       "    <tr>\n",
       "      <th>movieId</th>\n",
       "      <th></th>\n",
       "      <th></th>\n",
       "      <th></th>\n",
       "      <th></th>\n",
       "      <th></th>\n",
       "      <th></th>\n",
       "      <th></th>\n",
       "      <th></th>\n",
       "      <th></th>\n",
       "      <th></th>\n",
       "      <th></th>\n",
       "      <th></th>\n",
       "      <th></th>\n",
       "      <th></th>\n",
       "      <th></th>\n",
       "      <th></th>\n",
       "      <th></th>\n",
       "      <th></th>\n",
       "      <th></th>\n",
       "      <th></th>\n",
       "      <th></th>\n",
       "    </tr>\n",
       "  </thead>\n",
       "  <tbody>\n",
       "    <tr>\n",
       "      <th>8</th>\n",
       "      <td>5</td>\n",
       "      <td>0</td>\n",
       "      <td>0</td>\n",
       "      <td>0</td>\n",
       "      <td>0</td>\n",
       "      <td>0</td>\n",
       "      <td>0</td>\n",
       "      <td>3</td>\n",
       "      <td>0</td>\n",
       "      <td>0</td>\n",
       "      <td>...</td>\n",
       "      <td>0</td>\n",
       "      <td>0</td>\n",
       "      <td>0</td>\n",
       "      <td>0</td>\n",
       "      <td>0</td>\n",
       "      <td>0</td>\n",
       "      <td>0</td>\n",
       "      <td>0</td>\n",
       "      <td>0</td>\n",
       "      <td>0</td>\n",
       "    </tr>\n",
       "    <tr>\n",
       "      <th>28</th>\n",
       "      <td>4</td>\n",
       "      <td>0</td>\n",
       "      <td>0</td>\n",
       "      <td>0</td>\n",
       "      <td>0</td>\n",
       "      <td>3</td>\n",
       "      <td>3</td>\n",
       "      <td>2</td>\n",
       "      <td>0</td>\n",
       "      <td>4</td>\n",
       "      <td>...</td>\n",
       "      <td>0</td>\n",
       "      <td>3</td>\n",
       "      <td>4</td>\n",
       "      <td>0</td>\n",
       "      <td>2</td>\n",
       "      <td>0</td>\n",
       "      <td>4</td>\n",
       "      <td>0</td>\n",
       "      <td>0</td>\n",
       "      <td>4</td>\n",
       "    </tr>\n",
       "    <tr>\n",
       "      <th>43</th>\n",
       "      <td>0</td>\n",
       "      <td>0</td>\n",
       "      <td>0</td>\n",
       "      <td>0</td>\n",
       "      <td>0</td>\n",
       "      <td>0</td>\n",
       "      <td>0</td>\n",
       "      <td>0</td>\n",
       "      <td>0</td>\n",
       "      <td>0</td>\n",
       "      <td>...</td>\n",
       "      <td>0</td>\n",
       "      <td>0</td>\n",
       "      <td>0</td>\n",
       "      <td>0</td>\n",
       "      <td>0</td>\n",
       "      <td>0</td>\n",
       "      <td>0</td>\n",
       "      <td>0</td>\n",
       "      <td>0</td>\n",
       "      <td>0</td>\n",
       "    </tr>\n",
       "    <tr>\n",
       "      <th>48</th>\n",
       "      <td>0</td>\n",
       "      <td>0</td>\n",
       "      <td>0</td>\n",
       "      <td>0</td>\n",
       "      <td>0</td>\n",
       "      <td>0</td>\n",
       "      <td>0</td>\n",
       "      <td>0</td>\n",
       "      <td>0</td>\n",
       "      <td>0</td>\n",
       "      <td>...</td>\n",
       "      <td>0</td>\n",
       "      <td>0</td>\n",
       "      <td>0</td>\n",
       "      <td>0</td>\n",
       "      <td>0</td>\n",
       "      <td>0</td>\n",
       "      <td>0</td>\n",
       "      <td>0</td>\n",
       "      <td>0</td>\n",
       "      <td>0</td>\n",
       "    </tr>\n",
       "    <tr>\n",
       "      <th>61</th>\n",
       "      <td>0</td>\n",
       "      <td>0</td>\n",
       "      <td>0</td>\n",
       "      <td>0</td>\n",
       "      <td>0</td>\n",
       "      <td>0</td>\n",
       "      <td>0</td>\n",
       "      <td>0</td>\n",
       "      <td>0</td>\n",
       "      <td>0</td>\n",
       "      <td>...</td>\n",
       "      <td>0</td>\n",
       "      <td>0</td>\n",
       "      <td>0</td>\n",
       "      <td>0</td>\n",
       "      <td>0</td>\n",
       "      <td>0</td>\n",
       "      <td>0</td>\n",
       "      <td>0</td>\n",
       "      <td>0</td>\n",
       "      <td>0</td>\n",
       "    </tr>\n",
       "  </tbody>\n",
       "</table>\n",
       "<p>5 rows × 28978 columns</p>\n",
       "</div>"
      ],
      "text/plain": [
       "userId   7        79       199      481      769      906      1310     \\\n",
       "movieId                                                                  \n",
       "8              5        0        0        0        0        0        0   \n",
       "28             4        0        0        0        0        3        3   \n",
       "43             0        0        0        0        0        0        0   \n",
       "48             0        0        0        0        0        0        0   \n",
       "61             0        0        0        0        0        0        0   \n",
       "\n",
       "userId   1333     1427     1442     ...  2648572  2648589  2648730  2648734  \\\n",
       "movieId                             ...                                       \n",
       "8              3        0        0  ...        0        0        0        0   \n",
       "28             2        0        4  ...        0        3        4        0   \n",
       "43             0        0        0  ...        0        0        0        0   \n",
       "48             0        0        0  ...        0        0        0        0   \n",
       "61             0        0        0  ...        0        0        0        0   \n",
       "\n",
       "userId   2648853  2648869  2648885  2649120  2649267  2649285  \n",
       "movieId                                                        \n",
       "8              0        0        0        0        0        0  \n",
       "28             2        0        4        0        0        4  \n",
       "43             0        0        0        0        0        0  \n",
       "48             0        0        0        0        0        0  \n",
       "61             0        0        0        0        0        0  \n",
       "\n",
       "[5 rows x 28978 columns]"
      ]
     },
     "execution_count": 37,
     "metadata": {},
     "output_type": "execute_result"
    }
   ],
   "source": [
    "movieUserRating.fillna(0, inplace = True)\n",
    "\n",
    "movieUserRating = movieUserRating.astype(np.int32)\n",
    "\n",
    "movieUserRating.head()"
   ]
  },
  {
   "cell_type": "code",
   "execution_count": 38,
   "metadata": {},
   "outputs": [
    {
     "name": "stdout",
     "output_type": "stream",
     "text": [
      "4.071815611748076\n"
     ]
    }
   ],
   "source": [
    "movie6971= list(movieUserRating.loc[6971])\n",
    "\n",
    "avg6971= average(movie6971)\n",
    "\n",
    "print(avg6971)"
   ]
  },
  {
   "cell_type": "code",
   "execution_count": 46,
   "metadata": {},
   "outputs": [
    {
     "name": "stdout",
     "output_type": "stream",
     "text": [
      "4.047438894792774\n"
     ]
    }
   ],
   "source": [
    "\n",
    "movie4640= list(movieUserRating.loc[4640])\n",
    "\n",
    "avg4640 = average(movie4640)\n",
    "\n",
    "print(avg4640)"
   ]
  },
  {
   "cell_type": "code",
   "execution_count": 47,
   "metadata": {},
   "outputs": [
    {
     "name": "stdout",
     "output_type": "stream",
     "text": [
      "3.7261099495756977\n"
     ]
    }
   ],
   "source": [
    "\n",
    "movie6287= list(movieUserRating.loc[6287])\n",
    "\n",
    "avg6287= average(movie6287)\n",
    "\n",
    "print(avg6287)"
   ]
  },
  {
   "cell_type": "code",
   "execution_count": 45,
   "metadata": {},
   "outputs": [
    {
     "name": "stdout",
     "output_type": "stream",
     "text": [
      "3.8246204278812974\n"
     ]
    }
   ],
   "source": [
    "\n",
    "movie9728  = list(movieUserRating.loc[9728])\n",
    "\n",
    "avg9728= average(movie9728)\n",
    "\n",
    "print(avg9728)"
   ]
  },
  {
   "cell_type": "code",
   "execution_count": 44,
   "metadata": {},
   "outputs": [
    {
     "name": "stdout",
     "output_type": "stream",
     "text": [
      "3.9663373050469826\n"
     ]
    }
   ],
   "source": [
    "8915\n",
    "movie8915 = list(movieUserRating.loc[8915])\n",
    "\n",
    "avg8915 = average(movie8915)\n",
    "\n",
    "print(avg8915)"
   ]
  },
  {
   "cell_type": "code",
   "execution_count": 43,
   "metadata": {},
   "outputs": [
    {
     "name": "stdout",
     "output_type": "stream",
     "text": [
      "3.6721471305118545\n"
     ]
    }
   ],
   "source": [
    "#4432\n",
    "movie4432= list(movieUserRating.loc[4432])\n",
    "\n",
    "avg4432 = average(movie4432)\n",
    "\n",
    "print(avg4432)"
   ]
  },
  {
   "cell_type": "code",
   "execution_count": 42,
   "metadata": {},
   "outputs": [
    {
     "name": "stdout",
     "output_type": "stream",
     "text": [
      "4.103368832862421\n"
     ]
    }
   ],
   "source": [
    "#8596\n",
    "movie8596= list(movieUserRating.loc[8596])\n",
    "\n",
    "avg8596 = average(movie8596)\n",
    "\n",
    "print(avg8596)"
   ]
  },
  {
   "cell_type": "code",
   "execution_count": 41,
   "metadata": {},
   "outputs": [
    {
     "name": "stdout",
     "output_type": "stream",
     "text": [
      "3.8013020096235492\n"
     ]
    }
   ],
   "source": [
    "#6408\n",
    "movie6408= list(movieUserRating.loc[6408])\n",
    "\n",
    "avg6408 = average(movie6408)\n",
    "\n",
    "print(avg6408)"
   ]
  },
  {
   "cell_type": "code",
   "execution_count": 40,
   "metadata": {},
   "outputs": [
    {
     "name": "stdout",
     "output_type": "stream",
     "text": [
      "3.2807910426057876\n"
     ]
    }
   ],
   "source": [
    "\n",
    "movie1406= list(movieUserRating.loc[1406])\n",
    "\n",
    "avg1406 = average(movie1406)\n",
    "\n",
    "print(avg1406)"
   ]
  },
  {
   "cell_type": "code",
   "execution_count": 39,
   "metadata": {},
   "outputs": [
    {
     "name": "stdout",
     "output_type": "stream",
     "text": [
      "3.802730883813307\n"
     ]
    }
   ],
   "source": [
    "movie1744= list(movieUserRating.loc[1744])\n",
    "\n",
    "avg1744 = average(movie1744)\n",
    "\n",
    "print(avg1744)"
   ]
  },
  {
   "cell_type": "code",
   "execution_count": 52,
   "metadata": {},
   "outputs": [
    {
     "name": "stdout",
     "output_type": "stream",
     "text": [
      "ESTIMATED AVERAGE OVERLAP OF USERS FOR ITEMS :  3.8296662088461746\n"
     ]
    }
   ],
   "source": [
    "\n",
    "ESTIMATED_AVERAGE_USER_ITEMS = avg6971+avg4640+avg6287+avg9728+avg8915+avg1744+avg1406+avg6408+avg8596+avg4432\n",
    "\n",
    "print(\"ESTIMATED AVERAGE OVERLAP OF USERS FOR ITEMS : \",ESTIMATED_AVERAGE_USER_ITEMS/10)"
   ]
  },
  {
   "cell_type": "markdown",
   "metadata": {},
   "source": [
    "### ESTIMATED AVERAGE OVERLAP OF USERS FOR ITEMS :  3.8296662088461746"
   ]
  },
  {
   "cell_type": "code",
   "execution_count": null,
   "metadata": {},
   "outputs": [],
   "source": []
  },
  {
   "cell_type": "code",
   "execution_count": null,
   "metadata": {},
   "outputs": [],
   "source": []
  },
  {
   "cell_type": "code",
   "execution_count": null,
   "metadata": {},
   "outputs": [],
   "source": []
  },
  {
   "cell_type": "markdown",
   "metadata": {},
   "source": [
    "# ALS Model Approach"
   ]
  },
  {
   "cell_type": "code",
   "execution_count": 54,
   "metadata": {},
   "outputs": [],
   "source": [
    "from pyspark.ml.evaluation import RegressionEvaluator\n",
    "from pyspark.ml.recommendation import ALS\n",
    "from pyspark.sql import Row"
   ]
  },
  {
   "cell_type": "code",
   "execution_count": 55,
   "metadata": {},
   "outputs": [],
   "source": [
    "#Joining the actual dataframes with movie dataframe for accurate understandings\n",
    "\n",
    "df_training_join = df_training.join(df_movies,on=['movieId'],how='inner')\n",
    "\n",
    "df_testing_join = df_testing.join(df_movies,on=['movieId'],how='inner')"
   ]
  },
  {
   "cell_type": "markdown",
   "metadata": {},
   "source": [
    "### Approach 1, maxIter = 5 , regParam = 0.08"
   ]
  },
  {
   "cell_type": "code",
   "execution_count": 101,
   "metadata": {},
   "outputs": [
    {
     "name": "stdout",
     "output_type": "stream",
     "text": [
      "Mean squared error = 0.7396199565887807\n",
      "Root-mean-square error = 0.860011602589628\n"
     ]
    }
   ],
   "source": [
    "als = ALS(maxIter=5, regParam=0.08, userCol=\"userId\", itemCol=\"movieId\", ratingCol=\"ratings\",\n",
    "          coldStartStrategy=\"drop\")\n",
    "model1 = als.fit(df_training_join)\n",
    "\n",
    "\n",
    "\n",
    "# Evaluate the model by computing the RMSE on the test data\n",
    "predictions1 = model1.transform(df_testing_join)\n",
    "evaluator = RegressionEvaluator(metricName=\"mse\", labelCol=\"ratings\",\n",
    "                                predictionCol=\"prediction\")\n",
    "                                            \n",
    "evaluator1 = RegressionEvaluator(metricName=\"rmse\", labelCol=\"ratings\",\n",
    "                                predictionCol=\"prediction\")\n",
    "\n",
    "\n",
    "\n",
    "rmse = evaluator1.evaluate(predictions1)\n",
    "mse = evaluator.evaluate(predictions1)\n",
    "\n",
    "print(\"Mean squared error = \" + str(mse))\n",
    "print(\"Root-mean-square error = \" + str(rmse))"
   ]
  },
  {
   "cell_type": "markdown",
   "metadata": {},
   "source": [
    "### With the parameters maxIter = 5 , regParam = 0.08, Root-mean-square error is 0.860 and Mean squared error is 0.739"
   ]
  },
  {
   "cell_type": "code",
   "execution_count": 102,
   "metadata": {},
   "outputs": [
    {
     "name": "stdout",
     "output_type": "stream",
     "text": [
      "Following are the predictions results for the approach 1 model. \n",
      "\n",
      "+-------+-------+-------+-------------+-------------+----------+\n",
      "|movieId| userId|ratings|yearOfRelease|        title|prediction|\n",
      "+-------+-------+-------+-------------+-------------+----------+\n",
      "|   2366| 397212|    2.0|         2001|Just Visiting| 1.9941576|\n",
      "|   2366| 692235|    3.0|         2001|Just Visiting| 2.9941514|\n",
      "|   2366|1848661|    3.0|         2001|Just Visiting| 3.0412455|\n",
      "|   2366|2522831|    3.0|         2001|Just Visiting| 2.5490205|\n",
      "|   2366|1889646|    4.0|         2001|Just Visiting| 3.2688239|\n",
      "|   2366| 971361|    1.0|         2001|Just Visiting| 1.9191813|\n",
      "|   2366| 371750|    3.0|         2001|Just Visiting| 3.4278243|\n",
      "|   2366|2392538|    3.0|         2001|Just Visiting| 2.8423905|\n",
      "|   2366| 934835|    4.0|         2001|Just Visiting| 2.2479072|\n",
      "|   2366|1967163|    3.0|         2001|Just Visiting| 2.8313835|\n",
      "|   2366| 493190|    3.0|         2001|Just Visiting|  2.858516|\n",
      "|   2366| 472083|    4.0|         2001|Just Visiting| 3.2289522|\n",
      "|   2366|1386053|    3.0|         2001|Just Visiting| 2.4011233|\n",
      "|   2366|1059927|    4.0|         2001|Just Visiting| 3.4586225|\n",
      "|   2366|2120864|    2.0|         2001|Just Visiting| 2.8824384|\n",
      "|   2366|1484561|    4.0|         2001|Just Visiting| 3.4594424|\n",
      "|   2366|1979447|    3.0|         2001|Just Visiting| 2.5106738|\n",
      "|   2366|1309839|    3.0|         2001|Just Visiting|  2.632557|\n",
      "|   2366|1036350|    4.0|         2001|Just Visiting| 3.5660214|\n",
      "|   2366|1576111|    3.0|         2001|Just Visiting| 3.9638133|\n",
      "+-------+-------+-------+-------------+-------------+----------+\n",
      "only showing top 20 rows\n",
      "\n"
     ]
    }
   ],
   "source": [
    "print(\"Following are the predictions results for the approach 1 model. \\n\")\n",
    "\n",
    "predictions1.show()"
   ]
  },
  {
   "cell_type": "code",
   "execution_count": 106,
   "metadata": {},
   "outputs": [],
   "source": [
    "userRecs = model1.recommendForAllUsers(10)\n",
    "\n",
    "movieRecs = model1.recommendForAllItems(10)"
   ]
  },
  {
   "cell_type": "code",
   "execution_count": 109,
   "metadata": {},
   "outputs": [
    {
     "data": {
      "text/html": [
       "<div>\n",
       "<style scoped>\n",
       "    .dataframe tbody tr th:only-of-type {\n",
       "        vertical-align: middle;\n",
       "    }\n",
       "\n",
       "    .dataframe tbody tr th {\n",
       "        vertical-align: top;\n",
       "    }\n",
       "\n",
       "    .dataframe thead th {\n",
       "        text-align: right;\n",
       "    }\n",
       "</style>\n",
       "<table border=\"1\" class=\"dataframe\">\n",
       "  <thead>\n",
       "    <tr style=\"text-align: right;\">\n",
       "      <th></th>\n",
       "      <th>userId</th>\n",
       "      <th>recommendations</th>\n",
       "    </tr>\n",
       "  </thead>\n",
       "  <tbody>\n",
       "    <tr>\n",
       "      <th>0</th>\n",
       "      <td>15846</td>\n",
       "      <td>[(3033, 4.981762886047363), (15557, 4.84286117...</td>\n",
       "    </tr>\n",
       "    <tr>\n",
       "      <th>1</th>\n",
       "      <td>16386</td>\n",
       "      <td>[(14648, 3.9512343406677246), (14283, 3.870496...</td>\n",
       "    </tr>\n",
       "    <tr>\n",
       "      <th>2</th>\n",
       "      <td>128389</td>\n",
       "      <td>[(15836, 4.1682209968566895), (15183, 4.123197...</td>\n",
       "    </tr>\n",
       "    <tr>\n",
       "      <th>3</th>\n",
       "      <td>151871</td>\n",
       "      <td>[(12293, 4.460720062255859), (3290, 4.37065649...</td>\n",
       "    </tr>\n",
       "    <tr>\n",
       "      <th>4</th>\n",
       "      <td>205371</td>\n",
       "      <td>[(2861, 4.651029586791992), (12952, 4.64796781...</td>\n",
       "    </tr>\n",
       "  </tbody>\n",
       "</table>\n",
       "</div>"
      ],
      "text/plain": [
       "   userId                                    recommendations\n",
       "0   15846  [(3033, 4.981762886047363), (15557, 4.84286117...\n",
       "1   16386  [(14648, 3.9512343406677246), (14283, 3.870496...\n",
       "2  128389  [(15836, 4.1682209968566895), (15183, 4.123197...\n",
       "3  151871  [(12293, 4.460720062255859), (3290, 4.37065649...\n",
       "4  205371  [(2861, 4.651029586791992), (12952, 4.64796781..."
      ]
     },
     "execution_count": 109,
     "metadata": {},
     "output_type": "execute_result"
    }
   ],
   "source": [
    "#Recommendations for all users from model1 approach\n",
    "\n",
    "pd_userRecs = userRecs.toPandas()\n",
    "\n",
    "pd_userRecs.head()"
   ]
  },
  {
   "cell_type": "code",
   "execution_count": 110,
   "metadata": {},
   "outputs": [
    {
     "data": {
      "text/html": [
       "<div>\n",
       "<style scoped>\n",
       "    .dataframe tbody tr th:only-of-type {\n",
       "        vertical-align: middle;\n",
       "    }\n",
       "\n",
       "    .dataframe tbody tr th {\n",
       "        vertical-align: top;\n",
       "    }\n",
       "\n",
       "    .dataframe thead th {\n",
       "        text-align: right;\n",
       "    }\n",
       "</style>\n",
       "<table border=\"1\" class=\"dataframe\">\n",
       "  <thead>\n",
       "    <tr style=\"text-align: right;\">\n",
       "      <th></th>\n",
       "      <th>movieId</th>\n",
       "      <th>recommendations</th>\n",
       "    </tr>\n",
       "  </thead>\n",
       "  <tbody>\n",
       "    <tr>\n",
       "      <th>0</th>\n",
       "      <td>4935</td>\n",
       "      <td>[(2635943, 4.867413520812988), (794999, 4.7332...</td>\n",
       "    </tr>\n",
       "    <tr>\n",
       "      <th>1</th>\n",
       "      <td>11317</td>\n",
       "      <td>[(1968542, 4.557005882263184), (642384, 4.5008...</td>\n",
       "    </tr>\n",
       "    <tr>\n",
       "      <th>2</th>\n",
       "      <td>2659</td>\n",
       "      <td>[(1419978, 4.514466762542725), (27061, 4.45776...</td>\n",
       "    </tr>\n",
       "    <tr>\n",
       "      <th>3</th>\n",
       "      <td>13289</td>\n",
       "      <td>[(2088784, 4.763981342315674), (1605728, 4.717...</td>\n",
       "    </tr>\n",
       "    <tr>\n",
       "      <th>4</th>\n",
       "      <td>2366</td>\n",
       "      <td>[(27061, 4.72322940826416), (844526, 4.6992330...</td>\n",
       "    </tr>\n",
       "  </tbody>\n",
       "</table>\n",
       "</div>"
      ],
      "text/plain": [
       "   movieId                                    recommendations\n",
       "0     4935  [(2635943, 4.867413520812988), (794999, 4.7332...\n",
       "1    11317  [(1968542, 4.557005882263184), (642384, 4.5008...\n",
       "2     2659  [(1419978, 4.514466762542725), (27061, 4.45776...\n",
       "3    13289  [(2088784, 4.763981342315674), (1605728, 4.717...\n",
       "4     2366  [(27061, 4.72322940826416), (844526, 4.6992330..."
      ]
     },
     "execution_count": 110,
     "metadata": {},
     "output_type": "execute_result"
    }
   ],
   "source": [
    "#Movie Recommendations for all users from model1 approach\n",
    "\n",
    "pd_movieRecs = movieRecs.toPandas()\n",
    "\n",
    "pd_movieRecs.head()"
   ]
  },
  {
   "cell_type": "markdown",
   "metadata": {},
   "source": [
    "### Approach 2, maxIter = 10 , regParam = 0.01"
   ]
  },
  {
   "cell_type": "code",
   "execution_count": 111,
   "metadata": {},
   "outputs": [
    {
     "name": "stdout",
     "output_type": "stream",
     "text": [
      "Mean squared error = 0.7078012505083342\n",
      "Root-mean-square error = 0.8413092478442955\n"
     ]
    }
   ],
   "source": [
    "als = ALS(maxIter=10, regParam=0.01, userCol=\"userId\", itemCol=\"movieId\", ratingCol=\"ratings\",\n",
    "          coldStartStrategy=\"drop\")\n",
    "model2 = als.fit(df_training_join)\n",
    "\n",
    "\n",
    "\n",
    "# Evaluate the model by computing the RMSE on the test data\n",
    "predictions2 = model2.transform(df_testing_join)\n",
    "evaluator = RegressionEvaluator(metricName=\"mse\", labelCol=\"ratings\",\n",
    "                                predictionCol=\"prediction\")\n",
    "                                            \n",
    "evaluator1 = RegressionEvaluator(metricName=\"rmse\", labelCol=\"ratings\",\n",
    "                                predictionCol=\"prediction\")\n",
    "\n",
    "\n",
    "\n",
    "rmse = evaluator1.evaluate(predictions2)\n",
    "mse = evaluator.evaluate(predictions2)\n",
    "\n",
    "print(\"Mean squared error = \" + str(mse))\n",
    "print(\"Root-mean-square error = \" + str(rmse))"
   ]
  },
  {
   "cell_type": "markdown",
   "metadata": {},
   "source": [
    "### With the parameters maxIter = 10 , regParam = 0.01, Root-mean-square error is 0.84 and Mean squared error is 0.70"
   ]
  },
  {
   "cell_type": "code",
   "execution_count": 119,
   "metadata": {},
   "outputs": [
    {
     "name": "stdout",
     "output_type": "stream",
     "text": [
      "+-------+-------+-------+-------------+-------------+----------+\n",
      "|movieId| userId|ratings|yearOfRelease|        title|prediction|\n",
      "+-------+-------+-------+-------------+-------------+----------+\n",
      "|   2366|1484561|    4.0|         2001|Just Visiting| 3.6417994|\n",
      "|   2366| 397212|    2.0|         2001|Just Visiting| 1.8713087|\n",
      "|   2366| 692235|    3.0|         2001|Just Visiting| 3.1074786|\n",
      "|   2366|2552319|    3.0|         2001|Just Visiting| 2.8722143|\n",
      "|   2366| 799826|    2.0|         2001|Just Visiting|  2.708126|\n",
      "|   2366|1848661|    3.0|         2001|Just Visiting| 3.0266151|\n",
      "|   2366|1870288|    2.0|         2001|Just Visiting|  3.767644|\n",
      "|   2366|1889646|    4.0|         2001|Just Visiting| 3.8301644|\n",
      "|   2366| 819822|    3.0|         2001|Just Visiting| 2.1934857|\n",
      "|   2366| 125392|    3.0|         2001|Just Visiting| 2.8872359|\n",
      "|   2366|2392538|    3.0|         2001|Just Visiting| 2.5809598|\n",
      "|   2366| 742107|    5.0|         2001|Just Visiting| 3.1203933|\n",
      "|   2366| 472083|    4.0|         2001|Just Visiting| 3.5455425|\n",
      "|   2366|1386053|    3.0|         2001|Just Visiting| 2.4787016|\n",
      "|   2366| 923631|    2.0|         2001|Just Visiting| 2.3858747|\n",
      "|   2366|1665403|    2.0|         2001|Just Visiting| 2.6914644|\n",
      "|   2366|1483098|    4.0|         2001|Just Visiting| 2.9680874|\n",
      "|   2366|1309839|    3.0|         2001|Just Visiting|   2.53338|\n",
      "|   2366| 787873|    3.0|         2001|Just Visiting| 3.2244089|\n",
      "|   2366|2513271|    3.0|         2001|Just Visiting| 2.9904876|\n",
      "+-------+-------+-------+-------------+-------------+----------+\n",
      "only showing top 20 rows\n",
      "\n"
     ]
    }
   ],
   "source": [
    "predictions2.show()"
   ]
  },
  {
   "cell_type": "code",
   "execution_count": 120,
   "metadata": {},
   "outputs": [],
   "source": [
    "userRecs2 = model2.recommendForAllUsers(10)\n",
    "\n",
    "movieRecs2 = model2.recommendForAllItems(10)"
   ]
  },
  {
   "cell_type": "code",
   "execution_count": 121,
   "metadata": {},
   "outputs": [
    {
     "name": "stdout",
     "output_type": "stream",
     "text": [
      "+------+--------------------+\n",
      "|userId|     recommendations|\n",
      "+------+--------------------+\n",
      "| 15846|[[6991, 6.6622887...|\n",
      "| 16386|[[14648, 4.029642...|\n",
      "|128389|[[16576, 6.280640...|\n",
      "|151871|[[7016, 5.4288054...|\n",
      "|205371|[[14100, 7.861492...|\n",
      "|263031|[[12864, 5.47393]...|\n",
      "|279120|[[7527, 4.3905935...|\n",
      "|284489|[[15809, 5.942722...|\n",
      "|302344|[[14089, 5.194306...|\n",
      "|331295|[[12864, 5.298617...|\n",
      "|351141|[[15567, 5.410294...|\n",
      "|376576|[[15480, 4.202807...|\n",
      "|399735|[[6287, 4.3282576...|\n",
      "|400440|[[11054, 6.136180...|\n",
      "|426301|[[3359, 5.4057484...|\n",
      "|434476|[[15567, 5.659684...|\n",
      "|446160|[[6277, 6.3361664...|\n",
      "|450125|[[8842, 6.34262],...|\n",
      "|455334|[[14100, 5.306169...|\n",
      "|496699|[[7016, 5.3026924...|\n",
      "+------+--------------------+\n",
      "only showing top 20 rows\n",
      "\n"
     ]
    }
   ],
   "source": [
    "userRecs2.show()"
   ]
  },
  {
   "cell_type": "code",
   "execution_count": 122,
   "metadata": {},
   "outputs": [
    {
     "name": "stdout",
     "output_type": "stream",
     "text": [
      "+-------+--------------------+\n",
      "|movieId|     recommendations|\n",
      "+-------+--------------------+\n",
      "|   4935|[[2573207, 6.4066...|\n",
      "|  11317|[[1256990, 5.1191...|\n",
      "|   2366|[[27061, 5.272477...|\n",
      "|   2866|[[1606869, 5.7883...|\n",
      "|   6336|[[1870572, 5.3850...|\n",
      "|   6466|[[689215, 6.54576...|\n",
      "|   9376|[[1606869, 8.3693...|\n",
      "|  12046|[[973133, 6.84727...|\n",
      "|   2659|[[428653, 5.48664...|\n",
      "|  13289|[[1306404, 6.0939...|\n",
      "|   2235|[[1306404, 4.8571...|\n",
      "|  14075|[[1256990, 5.6500...|\n",
      "|   4190|[[2302897, 7.1306...|\n",
      "|   1522|[[973133, 6.38522...|\n",
      "|  10462|[[761430, 4.472],...|\n",
      "|   1896|[[2088784, 5.4494...|\n",
      "|  11316|[[396985, 6.09421...|\n",
      "|  16916|[[2100574, 5.2965...|\n",
      "|   6482|[[825353, 5.51940...|\n",
      "|  14324|[[61155, 6.605241...|\n",
      "+-------+--------------------+\n",
      "only showing top 20 rows\n",
      "\n"
     ]
    }
   ],
   "source": [
    "movieRecs2.show()"
   ]
  },
  {
   "cell_type": "markdown",
   "metadata": {},
   "source": [
    "### From the above two model performances we can say the RMSE value is comparitively less when maxIter = 10 and regParam = 0.01. Hence this would be our best ALS model."
   ]
  },
  {
   "cell_type": "code",
   "execution_count": null,
   "metadata": {},
   "outputs": [],
   "source": []
  },
  {
   "cell_type": "markdown",
   "metadata": {},
   "source": [
    "## Creating a new user for testing purpose and adding self rated movie ratings to our dataset "
   ]
  },
  {
   "cell_type": "code",
   "execution_count": 74,
   "metadata": {},
   "outputs": [],
   "source": [
    "user = 's3://netflixfinalvinay/myUser.txt'\n",
    "\n",
    "myUser_df_schema = StructType(\n",
    "  [StructField('movieId', IntegerType()),\n",
    "   StructField('userId', IntegerType()),\n",
    "   StructField('ratings', StringType())])"
   ]
  },
  {
   "cell_type": "code",
   "execution_count": 75,
   "metadata": {},
   "outputs": [
    {
     "name": "stdout",
     "output_type": "stream",
     "text": [
      "+-------+------+-------+\n",
      "|movieId|userId|ratings|\n",
      "+-------+------+-------+\n",
      "|      8|     0|    4.0|\n",
      "|     24|     0|    3.0|\n",
      "|     41|     0|    4.0|\n",
      "|     43|     0|    4.0|\n",
      "|     61|     0|    2.0|\n",
      "|     64|     0|    4.0|\n",
      "|     48|     0|    4.0|\n",
      "|     30|     0|    3.0|\n",
      "|     12|     0|    4.0|\n",
      "|     10|     0|    4.0|\n",
      "+-------+------+-------+\n",
      "\n"
     ]
    }
   ],
   "source": [
    "myUser_df = sqlContext.read.format('txt').options(inferSchema=True).schema(myUser_df_schema).csv(user)\n",
    "\n",
    "myUser_df.show()"
   ]
  },
  {
   "cell_type": "code",
   "execution_count": 76,
   "metadata": {},
   "outputs": [],
   "source": [
    "myUser_df = myUser_df.join(df_movies,on=['movieId'],how='inner')"
   ]
  },
  {
   "cell_type": "code",
   "execution_count": 77,
   "metadata": {},
   "outputs": [
    {
     "name": "stdout",
     "output_type": "stream",
     "text": [
      "+-------+------+-------+-------------+--------------------+\n",
      "|movieId|userId|ratings|yearOfRelease|               title|\n",
      "+-------+------+-------+-------------+--------------------+\n",
      "|      8|     0|    4.0|         2004|What the #$*! Do ...|\n",
      "|     10|     0|    4.0|         2001|             Fighter|\n",
      "|     12|     0|    4.0|         1947|My Favorite Brunette|\n",
      "|     24|     0|    3.0|         1981| My Bloody Valentine|\n",
      "|     30|     0|    3.0|         2003|Something's Gotta...|\n",
      "|     41|     0|    4.0|         2000|       Horror Vision|\n",
      "|     43|     0|    4.0|         2000|      Silent Service|\n",
      "|     48|     0|    4.0|         2001|      Justice League|\n",
      "|     61|     0|    2.0|         1999|Ricky Martin: One...|\n",
      "|     64|     0|    4.0|         2001|     Outside the Law|\n",
      "+-------+------+-------+-------------+--------------------+\n",
      "\n"
     ]
    }
   ],
   "source": [
    "myUser_df.show()"
   ]
  },
  {
   "cell_type": "code",
   "execution_count": 78,
   "metadata": {},
   "outputs": [],
   "source": [
    "df_training_union = df_training_join.union(myUser_df)\n",
    "\n",
    "df_testing_union = df_testing_join.union(myUser_df)"
   ]
  },
  {
   "cell_type": "code",
   "execution_count": 79,
   "metadata": {},
   "outputs": [
    {
     "name": "stdout",
     "output_type": "stream",
     "text": [
      "+-------+-------+-------+-------------+--------------------+\n",
      "|movieId| userId|ratings|yearOfRelease|               title|\n",
      "+-------+-------+-------+-------------+--------------------+\n",
      "|      8|1744889|    1.0|         2004|What the #$*! Do ...|\n",
      "|      8|1395430|    2.0|         2004|What the #$*! Do ...|\n",
      "|      8|1205593|    4.0|         2004|What the #$*! Do ...|\n",
      "|      8|1488844|    4.0|         2004|What the #$*! Do ...|\n",
      "|      8|1447354|    1.0|         2004|What the #$*! Do ...|\n",
      "|      8| 306466|    4.0|         2004|What the #$*! Do ...|\n",
      "|      8|1331154|    4.0|         2004|What the #$*! Do ...|\n",
      "|      8|1818178|    3.0|         2004|What the #$*! Do ...|\n",
      "|      8| 991725|    4.0|         2004|What the #$*! Do ...|\n",
      "|      8|1987434|    4.0|         2004|What the #$*! Do ...|\n",
      "|      8|1765381|    4.0|         2004|What the #$*! Do ...|\n",
      "|      8| 433803|    3.0|         2004|What the #$*! Do ...|\n",
      "|      8|1148143|    2.0|         2004|What the #$*! Do ...|\n",
      "|      8|1174811|    5.0|         2004|What the #$*! Do ...|\n",
      "|      8|1684516|    3.0|         2004|What the #$*! Do ...|\n",
      "|      8| 754781|    4.0|         2004|What the #$*! Do ...|\n",
      "|      8| 567025|    4.0|         2004|What the #$*! Do ...|\n",
      "|      8|1623132|    4.0|         2004|What the #$*! Do ...|\n",
      "|      8|1567095|    3.0|         2004|What the #$*! Do ...|\n",
      "|      8|1666394|    5.0|         2004|What the #$*! Do ...|\n",
      "+-------+-------+-------+-------------+--------------------+\n",
      "only showing top 20 rows\n",
      "\n"
     ]
    }
   ],
   "source": [
    "df_training_union.show()"
   ]
  },
  {
   "cell_type": "code",
   "execution_count": 81,
   "metadata": {},
   "outputs": [
    {
     "name": "stdout",
     "output_type": "stream",
     "text": [
      "+-------+------+-------+-------------+--------------------+\n",
      "|movieId|userId|ratings|yearOfRelease|               title|\n",
      "+-------+------+-------+-------------+--------------------+\n",
      "|      8|     0|    4.0|         2004|What the #$*! Do ...|\n",
      "|     10|     0|    4.0|         2001|             Fighter|\n",
      "|     12|     0|    4.0|         1947|My Favorite Brunette|\n",
      "|     24|     0|    3.0|         1981| My Bloody Valentine|\n",
      "|     30|     0|    3.0|         2003|Something's Gotta...|\n",
      "|     41|     0|    4.0|         2000|       Horror Vision|\n",
      "|     43|     0|    4.0|         2000|      Silent Service|\n",
      "|     48|     0|    4.0|         2001|      Justice League|\n",
      "|     61|     0|    2.0|         1999|Ricky Martin: One...|\n",
      "|     64|     0|    4.0|         2001|     Outside the Law|\n",
      "+-------+------+-------+-------------+--------------------+\n",
      "\n"
     ]
    }
   ],
   "source": [
    "UserID = 0\n",
    "self = df_training_union.filter(df_training_union.userId == UserID)\n",
    "self.show(30)"
   ]
  },
  {
   "cell_type": "code",
   "execution_count": null,
   "metadata": {},
   "outputs": [],
   "source": []
  }
 ],
 "metadata": {
  "kernelspec": {
   "display_name": "Python 3",
   "language": "python",
   "name": "python3"
  },
  "language_info": {
   "codemirror_mode": {
    "name": "ipython",
    "version": 3
   },
   "file_extension": ".py",
   "mimetype": "text/x-python",
   "name": "python",
   "nbconvert_exporter": "python",
   "pygments_lexer": "ipython3",
   "version": "3.7.6"
  }
 },
 "nbformat": 4,
 "nbformat_minor": 4
}
